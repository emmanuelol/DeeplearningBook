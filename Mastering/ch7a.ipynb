{
 "cells": [
  {
   "cell_type": "code",
   "execution_count": 9,
   "metadata": {},
   "outputs": [],
   "source": [
    "import tensorflow as tf \n",
    "import numpy as np\n",
    "import os"
   ]
  },
  {
   "cell_type": "code",
   "execution_count": 10,
   "metadata": {},
   "outputs": [],
   "source": [
    "# libreria del libro mastering tensorflow\n",
    "DATASETSLIB_HOME = os.path.expanduser('~/dl-ts/datasetslib')\n",
    "import sys\n",
    "if not DATASETSLIB_HOME in sys.path:\n",
    "    sys.path.append(DATASETSLIB_HOME)\n",
    "%reload_ext autoreload\n",
    "%autoreload 2\n",
    "import datasetslib\n",
    "\n",
    "from datasetslib import util as dsu\n",
    "datasetslib.datasets_root = os.path.join(os.path.expanduser('~'),'datasets')\n",
    "models_root = os.path.join(os.path.expanduser('~'),'models')"
   ]
  },
  {
   "cell_type": "markdown",
   "metadata": {},
   "source": [
    "# Saving and restore model on tensorflow"
   ]
  },
  {
   "cell_type": "code",
   "execution_count": 11,
   "metadata": {},
   "outputs": [],
   "source": [
    "# Saving all variables in a graph\n",
    "\n"
   ]
  },
  {
   "cell_type": "code",
   "execution_count": 12,
   "metadata": {},
   "outputs": [],
   "source": [
    "\n",
    "tf.reset_default_graph()\n",
    "\n",
    "# Assume Linear Model y = w * x + b\n",
    "# Define model parameters\n",
    "w = tf.Variable([.3], tf.float32)\n",
    "b = tf.Variable([-.3], tf.float32)\n",
    "# Define model input and output\n",
    "x = tf.placeholder(tf.float32)\n",
    "y = w * x + b\n",
    "output = 0"
   ]
  },
  {
   "cell_type": "code",
   "execution_count": 13,
   "metadata": {},
   "outputs": [],
   "source": [
    "# create saver object\n",
    "saver=tf.train.Saver()\n"
   ]
  },
  {
   "cell_type": "code",
   "execution_count": 14,
   "metadata": {},
   "outputs": [
    {
     "name": "stdout",
     "output_type": "stream",
     "text": [
      "Model Saved in saved-model/full-graph-example.ckpt\n",
      "Values of variables w,b[0.3][-0.3]\n",
      "output=[0.         0.3        0.6        0.90000004]\n"
     ]
    }
   ],
   "source": [
    "with tf.Session() as tfs:\n",
    "    # initialize and print the variable y\n",
    "    tfs.run(tf.global_variables_initializer())\n",
    "    output = tfs.run(y,{x:[1,2,3,4]})\n",
    "    saved_model_file=saver.save(tfs,'saved-model/full-graph-example.ckpt')\n",
    "    print('Model Saved in {}'.format(saved_model_file))\n",
    "    print('Values of variables w,b{}{}'.format(w.eval(),b.eval()))\n",
    "    print('output={}'.format(output))"
   ]
  },
  {
   "cell_type": "markdown",
   "metadata": {},
   "source": [
    "# Restoring all variables from a graph¶\n"
   ]
  },
  {
   "cell_type": "code",
   "execution_count": 15,
   "metadata": {},
   "outputs": [],
   "source": [
    "tf.reset_default_graph()\n",
    "\n",
    "# Assume Linear Model y = w * x + b\n",
    "# Define model parameters\n",
    "w = tf.Variable([0], dtype=tf.float32)\n",
    "b = tf.Variable([0], dtype=tf.float32)\n",
    "# Define model input and output\n",
    "x = tf.placeholder(dtype=tf.float32)\n",
    "y = w * x + b\n",
    "output = 0\n",
    "\n",
    "# create saver object\n",
    "saver = tf.train.Saver()\n",
    "\n",
    "\n"
   ]
  },
  {
   "cell_type": "code",
   "execution_count": 16,
   "metadata": {},
   "outputs": [
    {
     "name": "stdout",
     "output_type": "stream",
     "text": [
      "INFO:tensorflow:Restoring parameters from saved-model/full-graph-example.ckpt\n",
      "Values of variables w,b[0.3][-0.3]\n",
      "output=[0.         0.3        0.6        0.90000004]\n"
     ]
    }
   ],
   "source": [
    "with tf.Session() as tfs:\n",
    "    # initialize and print the variable y\n",
    "    saved_model_file=saver.restore(tfs,'saved-model/full-graph-example.ckpt')\n",
    "    output = tfs.run(y,{x:[1,2,3,4]})\n",
    "    print('Values of variables w,b{}{}'.format(w.eval(),b.eval()))\n",
    "    print('output={}'.format(output))"
   ]
  },
  {
   "cell_type": "markdown",
   "metadata": {},
   "source": [
    "# Restoring selected variables in a graph¶\n"
   ]
  },
  {
   "cell_type": "code",
   "execution_count": 19,
   "metadata": {},
   "outputs": [],
   "source": [
    "tf.reset_default_graph()\n",
    "\n",
    "# Assume Linear Model y = w * x + b\n",
    "# Define model parameters\n",
    "w = tf.Variable([.3], tf.float32)\n",
    "b = tf.Variable([-.3], tf.float32)\n",
    "# Define model input and output\n",
    "x = tf.placeholder(tf.float32)\n",
    "y = w * x + b\n",
    "output = 0\n",
    "# create saver object\n",
    "saver = tf.train.Saver({'weights':w})"
   ]
  },
  {
   "cell_type": "code",
   "execution_count": 20,
   "metadata": {},
   "outputs": [
    {
     "name": "stdout",
     "output_type": "stream",
     "text": [
      "Model Saved in saved-model/weights-save-example.ckpt\n",
      "Values of variables w,b[0.3][-0.3]\n",
      "output=[0.         0.3        0.6        0.90000004]\n"
     ]
    }
   ],
   "source": [
    "with tf.Session() as tfs:\n",
    "    # initialize and print the variable y\n",
    "    tfs.run(tf.global_variables_initializer())\n",
    "    output = tfs.run(y,{x:[1,2,3,4]})\n",
    "    saved_model_file=saver.save(tfs,'saved-model/weights-save-example.ckpt')\n",
    "    print('Model Saved in {}'.format(saved_model_file))\n",
    "    print('Values of variables w,b{}{}'.format(w.eval(),b.eval()))\n",
    "    print('output={}'.format(output))"
   ]
  },
  {
   "cell_type": "code",
   "execution_count": 21,
   "metadata": {},
   "outputs": [],
   "source": [
    "tf.reset_default_graph()\n",
    "\n",
    "# Assume Linear Model y = w * x + b\n",
    "# Define model parameters\n",
    "w = tf.Variable([0], dtype=tf.float32)\n",
    "b = tf.Variable([0], dtype=tf.float32)\n",
    "# Define model input and output\n",
    "x = tf.placeholder(dtype=tf.float32)\n",
    "y = w * x + b\n",
    "output = 0\n",
    "\n",
    "# create saver object\n",
    "saver = tf.train.Saver({'weights': w})\n",
    "\n"
   ]
  },
  {
   "cell_type": "code",
   "execution_count": 22,
   "metadata": {},
   "outputs": [
    {
     "name": "stdout",
     "output_type": "stream",
     "text": [
      "INFO:tensorflow:Restoring parameters from saved-model/weights-save-example.ckpt\n"
     ]
    },
    {
     "name": "stderr",
     "output_type": "stream",
     "text": [
      "INFO:tensorflow:Restoring parameters from saved-model/weights-save-example.ckpt\n"
     ]
    },
    {
     "name": "stdout",
     "output_type": "stream",
     "text": [
      "values of variables w,b: [0.3][0.]\n",
      "output=[0.3        0.6        0.90000004 1.2       ]\n"
     ]
    }
   ],
   "source": [
    "with tf.Session() as tfs:\n",
    "    b.initializer.run()\n",
    "    saved_model_file=saver.restore(tfs,'saved-model/weights-save-example.ckpt')\n",
    "    print('values of variables w,b: {}{}'.format(w.eval(),b.eval()))\n",
    "    output=tfs.run(y,{x:[1,2,3,4]})\n",
    "    print('output={}'.format(output))"
   ]
  },
  {
   "cell_type": "code",
   "execution_count": null,
   "metadata": {},
   "outputs": [],
   "source": []
  }
 ],
 "metadata": {
  "kernelspec": {
   "display_name": "Python 3",
   "language": "python",
   "name": "python3"
  },
  "language_info": {
   "codemirror_mode": {
    "name": "ipython",
    "version": 3
   },
   "file_extension": ".py",
   "mimetype": "text/x-python",
   "name": "python",
   "nbconvert_exporter": "python",
   "pygments_lexer": "ipython3",
   "version": "3.6.4rc1"
  }
 },
 "nbformat": 4,
 "nbformat_minor": 2
}
