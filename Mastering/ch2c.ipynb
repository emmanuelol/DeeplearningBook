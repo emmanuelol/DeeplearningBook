{
 "cells": [
  {
   "cell_type": "code",
   "execution_count": 3,
   "metadata": {},
   "outputs": [],
   "source": [
    "import os\n",
    "import keras\n",
    "import keras\n",
    "from keras.models import Sequential\n",
    "from keras.layers import Dense,Activation\n",
    "from keras.layers.recurrent import SimpleRNN\n",
    "from keras.optimizers import RMSprop,SGD"
   ]
  },
  {
   "cell_type": "code",
   "execution_count": 4,
   "metadata": {},
   "outputs": [
    {
     "name": "stdout",
     "output_type": "stream",
     "text": [
      "Extracting .\\mnist\\train-images-idx3-ubyte.gz\n",
      "Extracting .\\mnist\\train-labels-idx1-ubyte.gz\n",
      "Extracting .\\mnist\\t10k-images-idx3-ubyte.gz\n",
      "Extracting .\\mnist\\t10k-labels-idx1-ubyte.gz\n"
     ]
    }
   ],
   "source": [
    "from tensorflow.examples.tutorials.mnist import input_data\n",
    "mnist = input_data.read_data_sets(os.path.join('.', 'mnist'), one_hot=True)\n",
    "X_train = mnist.train.images\n",
    "X_test = mnist.test.images\n",
    "Y_train = mnist.train.labels\n",
    "Y_test = mnist.test.labels\n",
    "n_classes = 10\n",
    "n_classes = 10\n",
    "X_train = X_train.reshape(-1,28,28)\n",
    "X_test = X_test.reshape(-1,28,28)"
   ]
  },
  {
   "cell_type": "code",
   "execution_count": 5,
   "metadata": {},
   "outputs": [],
   "source": [
    "model=Sequential()\n",
    "model.add(SimpleRNN(units=16,activation='relu',input_shape=(28,28)))\n",
    "model.add(Dense(n_classes))\n",
    "model.add(Activation('softmax'))"
   ]
  },
  {
   "cell_type": "code",
   "execution_count": 6,
   "metadata": {},
   "outputs": [],
   "source": [
    "model.compile(loss='categorical_crossentropy',optimizer=RMSprop(lr=0.01),metrics=['accuracy'])"
   ]
  },
  {
   "cell_type": "code",
   "execution_count": 7,
   "metadata": {},
   "outputs": [
    {
     "name": "stdout",
     "output_type": "stream",
     "text": [
      "_________________________________________________________________\n",
      "Layer (type)                 Output Shape              Param #   \n",
      "=================================================================\n",
      "simple_rnn_1 (SimpleRNN)     (None, 16)                720       \n",
      "_________________________________________________________________\n",
      "dense_1 (Dense)              (None, 10)                170       \n",
      "_________________________________________________________________\n",
      "activation_1 (Activation)    (None, 10)                0         \n",
      "=================================================================\n",
      "Total params: 890\n",
      "Trainable params: 890\n",
      "Non-trainable params: 0\n",
      "_________________________________________________________________\n"
     ]
    }
   ],
   "source": [
    "model.summary()"
   ]
  },
  {
   "cell_type": "code",
   "execution_count": 8,
   "metadata": {},
   "outputs": [
    {
     "name": "stdout",
     "output_type": "stream",
     "text": [
      "Epoch 1/20\n",
      "55000/55000 [==============================] - 3s 52us/step - loss: 1.2478 - acc: 0.5457\n",
      "Epoch 2/20\n",
      "55000/55000 [==============================] - 2s 45us/step - loss: 0.8927 - acc: 0.6947\n",
      "Epoch 3/20\n",
      "55000/55000 [==============================] - 3s 46us/step - loss: 0.8049 - acc: 0.7351\n",
      "Epoch 4/20\n",
      "55000/55000 [==============================] - 3s 49us/step - loss: 0.7623 - acc: 0.7584\n",
      "Epoch 5/20\n",
      "55000/55000 [==============================] - 3s 47us/step - loss: 0.7152 - acc: 0.7778\n",
      "Epoch 6/20\n",
      "55000/55000 [==============================] - 3s 46us/step - loss: 0.6724 - acc: 0.7941\n",
      "Epoch 7/20\n",
      "55000/55000 [==============================] - 3s 48us/step - loss: 0.6501 - acc: 0.8006\n",
      "Epoch 8/20\n",
      "55000/55000 [==============================] - 3s 50us/step - loss: 0.6350 - acc: 0.8077\n",
      "Epoch 9/20\n",
      "55000/55000 [==============================] - 3s 52us/step - loss: 0.6211 - acc: 0.8106\n",
      "Epoch 10/20\n",
      "55000/55000 [==============================] - 3s 49us/step - loss: 0.6229 - acc: 0.8108\n",
      "Epoch 11/20\n",
      "55000/55000 [==============================] - 3s 54us/step - loss: 0.6116 - acc: 0.8138\n",
      "Epoch 12/20\n",
      "55000/55000 [==============================] - 3s 48us/step - loss: 0.6063 - acc: 0.8141\n",
      "Epoch 13/20\n",
      "55000/55000 [==============================] - 3s 47us/step - loss: 0.5994 - acc: 0.8194\n",
      "Epoch 14/20\n",
      "55000/55000 [==============================] - 4s 71us/step - loss: 0.5895 - acc: 0.8213\n",
      "Epoch 15/20\n",
      "55000/55000 [==============================] - 3s 50us/step - loss: 0.5801 - acc: 0.8272\n",
      "Epoch 16/20\n",
      "55000/55000 [==============================] - 3s 53us/step - loss: 0.5650 - acc: 0.8288\n",
      "Epoch 17/20\n",
      "55000/55000 [==============================] - 3s 52us/step - loss: 0.5653 - acc: 0.8312\n",
      "Epoch 18/20\n",
      "55000/55000 [==============================] - 3s 56us/step - loss: 0.5636 - acc: 0.8311\n",
      "Epoch 19/20\n",
      "55000/55000 [==============================] - 3s 54us/step - loss: 0.5570 - acc: 0.8334\n",
      "Epoch 20/20\n",
      "55000/55000 [==============================] - 3s 51us/step - loss: 0.5530 - acc: 0.8366\n"
     ]
    },
    {
     "data": {
      "text/plain": [
       "<keras.callbacks.History at 0x1eada4a6ef0>"
      ]
     },
     "execution_count": 8,
     "metadata": {},
     "output_type": "execute_result"
    }
   ],
   "source": [
    "model.fit(X_train,Y_train,batch_size=100,epochs=20)"
   ]
  },
  {
   "cell_type": "code",
   "execution_count": 9,
   "metadata": {},
   "outputs": [
    {
     "name": "stdout",
     "output_type": "stream",
     "text": [
      "10000/10000 [==============================] - 1s 58us/step\n",
      "\n",
      "Test loss: 0.48246534242630007\n",
      "Test accuracy: 0.8679\n"
     ]
    }
   ],
   "source": [
    "score = model.evaluate(X_test, Y_test)\n",
    "print('\\nTest loss:', score[0])\n",
    "print('Test accuracy:', score[1])"
   ]
  },
  {
   "cell_type": "code",
   "execution_count": null,
   "metadata": {},
   "outputs": [],
   "source": []
  },
  {
   "cell_type": "code",
   "execution_count": null,
   "metadata": {},
   "outputs": [],
   "source": []
  }
 ],
 "metadata": {
  "kernelspec": {
   "display_name": "Python 3",
   "language": "python",
   "name": "python3"
  },
  "language_info": {
   "codemirror_mode": {
    "name": "ipython",
    "version": 3
   },
   "file_extension": ".py",
   "mimetype": "text/x-python",
   "name": "python",
   "nbconvert_exporter": "python",
   "pygments_lexer": "ipython3",
   "version": "3.6.4rc1"
  }
 },
 "nbformat": 4,
 "nbformat_minor": 2
}
