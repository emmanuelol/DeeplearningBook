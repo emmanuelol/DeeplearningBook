{
 "cells": [
  {
   "cell_type": "code",
   "execution_count": 19,
   "metadata": {},
   "outputs": [],
   "source": [
    "import tensorflow as tf\n",
    "import numpy as np\n",
    "import os"
   ]
  },
  {
   "cell_type": "code",
   "execution_count": 20,
   "metadata": {},
   "outputs": [
    {
     "name": "stdout",
     "output_type": "stream",
     "text": [
      "Extracting .\\mnist\\train-images-idx3-ubyte.gz\n",
      "Extracting .\\mnist\\train-labels-idx1-ubyte.gz\n",
      "Extracting .\\mnist\\t10k-images-idx3-ubyte.gz\n",
      "Extracting .\\mnist\\t10k-labels-idx1-ubyte.gz\n"
     ]
    }
   ],
   "source": [
    "from tensorflow.examples.tutorials.mnist import input_data\n",
    "mnist = input_data.read_data_sets(os.path.join('.','mnist'), one_hot=True)\n",
    "X_train = mnist.train.images\n",
    "X_test = mnist.test.images\n",
    "Y_train = mnist.train.labels\n",
    "Y_test = mnist.test.labels"
   ]
  },
  {
   "cell_type": "code",
   "execution_count": 21,
   "metadata": {},
   "outputs": [],
   "source": [
    "tf.reset_default_graph()"
   ]
  },
  {
   "cell_type": "code",
   "execution_count": 22,
   "metadata": {},
   "outputs": [],
   "source": [
    "n_classes=10\n",
    "n_width=28\n",
    "n_height=28\n",
    "n_depth=1\n",
    "n_inputs=n_height*n_width*n_depth\n",
    "learning_rate=0.001\n",
    "n_epochs=10\n",
    "batch_size=100\n",
    "n_batches=int(mnist.train.num_examples/batch_size)\n",
    "    \n",
    "    #input images shape: (n_samples,n_pixels)\n",
    "\n",
    "x = tf.placeholder(dtype=tf.float32, name=\"x\", shape=[None, n_inputs]) \n",
    "    #output labels\n",
    "y=tf.placeholder(dtype=tf.float32,name='y',shape=[None,n_classes])\n",
    "\n",
    "# reshape input to (n_samples,n_width,n_height,n_depth)\n",
    "x_ = tf.reshape(x, shape=[-1, n_width, n_height, n_depth])\n",
    "    "
   ]
  },
  {
   "cell_type": "code",
   "execution_count": 23,
   "metadata": {},
   "outputs": [],
   "source": [
    "#layer 1\n",
    "layer1_w=tf.Variable(tf.random_normal(shape=[4,4,n_depth,32],stddev=0.1),name='l1w')\n",
    "layer1_b=tf.Variable(tf.random_normal([32]),name='l1b')\n",
    "\n",
    "layer1_conv=tf.nn.relu(tf.nn.conv2d(x_,layer1_w,strides=[1,1,1,1],padding='SAME')+layer1_b)\n",
    "\n",
    "#pool \n",
    "layer1_pool=tf.nn.max_pool(layer1_conv,ksize=[1,2,2,1],strides=[1,2,2,1],padding='SAME')\n"
   ]
  },
  {
   "cell_type": "code",
   "execution_count": 24,
   "metadata": {},
   "outputs": [],
   "source": [
    "#layer 2\n",
    "layer2_w=tf.Variable(tf.random_normal(shape=[4,4,32,64],stddev=0.1),name='l2w')\n",
    "layer2_b=tf.Variable(tf.random_normal([64]),name='l2b')\n",
    "\n",
    "layer2_conv=tf.nn.relu(tf.nn.conv2d(layer1_pool,layer2_w,strides=[1,1,1,1],padding='SAME')+layer2_b)\n",
    "\n",
    "#pool \n",
    "layer2_pool=tf.nn.max_pool(layer2_conv,ksize=[1,2,2,1],strides=[1,2,2,1],padding='SAME')\n"
   ]
  },
  {
   "cell_type": "code",
   "execution_count": 25,
   "metadata": {},
   "outputs": [],
   "source": [
    "#layer 3\n",
    "layer3_w=tf.Variable(tf.random_normal(shape=[64*7*7*1,1024],stddev=0.01),name='l3_w')\n",
    "layer3_b=tf.Variable(tf.random_normal([1024]),name='l3_b')\n",
    "\n",
    "#fully connected\n",
    "layer3_fc=tf.nn.relu(tf.matmul(tf.reshape(layer2_pool,[-1,64*7*7*1]),layer3_w)+layer3_b)\n"
   ]
  },
  {
   "cell_type": "code",
   "execution_count": 26,
   "metadata": {},
   "outputs": [],
   "source": [
    "# layer 4\n",
    "layer4_w=tf.Variable(tf.random_normal(shape=[1024,n_classes],stddev=0.01),name='l4_w')\n",
    "layer4_b=tf.Variable(tf.random_normal(shape=[n_classes]),name='l4_b')\n",
    "\n",
    "layer4_out=tf.matmul(layer3_fc,layer4_w)+layer4_b\n"
   ]
  },
  {
   "cell_type": "code",
   "execution_count": 27,
   "metadata": {},
   "outputs": [],
   "source": [
    "model=layer4_out"
   ]
  },
  {
   "cell_type": "code",
   "execution_count": 28,
   "metadata": {},
   "outputs": [],
   "source": [
    "entropy=tf.nn.softmax_cross_entropy_with_logits(logits=model,labels=y)\n",
    "loss=tf.reduce_mean(entropy)\n",
    "optimizer=tf.train.AdamOptimizer(learning_rate=learning_rate).minimize(loss)"
   ]
  },
  {
   "cell_type": "code",
   "execution_count": 30,
   "metadata": {},
   "outputs": [
    {
     "name": "stdout",
     "output_type": "stream",
     "text": [
      "Epoch: 0000   loss = 0.412252\n",
      "Epoch: 0001   loss = 0.064392\n",
      "Epoch: 0002   loss = 0.042424\n",
      "Epoch: 0003   loss = 0.032175\n",
      "Epoch: 0004   loss = 0.024938\n",
      "Epoch: 0005   loss = 0.019645\n",
      "Epoch: 0006   loss = 0.016546\n",
      "Epoch: 0007   loss = 0.014716\n",
      "Epoch: 0008   loss = 0.011508\n",
      "Epoch: 0009   loss = 0.011764\n",
      "Model Trained.\n",
      "Accuracy: 0.9899\n"
     ]
    }
   ],
   "source": [
    "# train and evaluate\n",
    "with tf.Session() as tfs:\n",
    "    tf.global_variables_initializer().run()\n",
    "    for epoch in range(n_epochs):\n",
    "        total_loss = 0.0\n",
    "        for batch in range(n_batches):\n",
    "            batch_x,batch_y = mnist.train.next_batch(batch_size)\n",
    "            feed_dict={x:batch_x, y: batch_y}\n",
    "            batch_loss,_ = tfs.run([loss, optimizer],\n",
    "                                   feed_dict=feed_dict\n",
    "                                  )\n",
    "            total_loss += batch_loss \n",
    "        average_loss = total_loss / n_batches\n",
    "        print(\"Epoch: {0:04d}   loss = {1:0.6f}\".format(epoch,average_loss))\n",
    "    print(\"Model Trained.\")\n",
    "\n",
    "    predictions_check = tf.equal(tf.argmax(model,1),tf.argmax(y,1))\n",
    "    accuracy = tf.reduce_mean(tf.cast(predictions_check, tf.float32))\n",
    "    feed_dict = {x:mnist.test.images, y:mnist.test.labels}\n",
    "    print(\"Accuracy:\", accuracy.eval(feed_dict=feed_dict))\n",
    "\n"
   ]
  },
  {
   "cell_type": "code",
   "execution_count": null,
   "metadata": {},
   "outputs": [],
   "source": []
  }
 ],
 "metadata": {
  "kernelspec": {
   "display_name": "Python 3",
   "language": "python",
   "name": "python3"
  },
  "language_info": {
   "codemirror_mode": {
    "name": "ipython",
    "version": 3
   },
   "file_extension": ".py",
   "mimetype": "text/x-python",
   "name": "python",
   "nbconvert_exporter": "python",
   "pygments_lexer": "ipython3",
   "version": "3.6.4rc1"
  }
 },
 "nbformat": 4,
 "nbformat_minor": 2
}
