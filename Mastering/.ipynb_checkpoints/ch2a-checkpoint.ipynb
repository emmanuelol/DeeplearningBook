{
 "cells": [
  {
   "cell_type": "code",
   "execution_count": 3,
   "metadata": {},
   "outputs": [
    {
     "name": "stderr",
     "output_type": "stream",
     "text": [
      "c:\\users\\ledra\\appdata\\local\\programs\\python\\python36\\lib\\site-packages\\h5py\\__init__.py:36: FutureWarning: Conversion of the second argument of issubdtype from `float` to `np.floating` is deprecated. In future, it will be treated as `np.float64 == np.dtype(float).type`.\n",
      "  from ._conv import register_converters as _register_converters\n"
     ]
    }
   ],
   "source": [
    "import os\n",
    "import tensorflow as tf\n",
    "import numpy as np\n",
    "from tensorflow.examples.tutorials.mnist import input_data"
   ]
  },
  {
   "cell_type": "code",
   "execution_count": 4,
   "metadata": {},
   "outputs": [
    {
     "name": "stdout",
     "output_type": "stream",
     "text": [
      "Extracting .\\mnist\\train-images-idx3-ubyte.gz\n",
      "Extracting .\\mnist\\train-labels-idx1-ubyte.gz\n",
      "Extracting .\\mnist\\t10k-images-idx3-ubyte.gz\n",
      "Extracting .\\mnist\\t10k-labels-idx1-ubyte.gz\n"
     ]
    }
   ],
   "source": [
    "tf.reset_default_graph()\n",
    "\n",
    "mnist = input_data.read_data_sets(os.path.join('.', 'mnist'), one_hot=True)"
   ]
  },
  {
   "cell_type": "code",
   "execution_count": 5,
   "metadata": {},
   "outputs": [],
   "source": [
    "X_train=mnist.train.images\n",
    "X_test=mnist.test.images\n",
    "Y_train=mnist.train.labels\n",
    "Y_test=mnist.test.labels"
   ]
  },
  {
   "cell_type": "code",
   "execution_count": 6,
   "metadata": {},
   "outputs": [],
   "source": [
    "num_outputs=10\n",
    "num_inputs=784"
   ]
  },
  {
   "cell_type": "code",
   "execution_count": 7,
   "metadata": {},
   "outputs": [],
   "source": [
    "def mlp(x,num_inputs,num_outputs,num_layers,num_neurons):\n",
    "    w=[]\n",
    "    b=[]\n",
    "    for i in range(num_layers):\n",
    "        #weights\n",
    "        w.append(tf.Variable(tf.random_normal([num_inputs if i==0 else num_neurons[i-1],num_neurons[i]]),name='w_{0:04d}'.format(i)))\n",
    "        #biases\n",
    "        b.append(tf.Variable(tf.random_normal([num_neurons[i]]),name='b_{0:04d}'.format(i)))\n",
    "        \n",
    "    #weights last layer\n",
    "    w.append(tf.Variable(tf.random_normal([num_neurons[num_layers-1] if num_layers>0 else num_inputs,num_outputs]),name='w_out'))\n",
    "    #biases last layer\n",
    "    b.append(tf.Variable(tf.random_normal([num_outputs]),name='b_out'))\n",
    "        \n",
    "    #X is input layer\n",
    "    layer=x\n",
    "    #hidden layers\n",
    "    for i in range(num_layers):\n",
    "        layer=tf.nn.relu(tf.matmul(layer,w[i])+b[i])\n",
    "    #add output layer\n",
    "    layer=tf.matmul(layer,w[num_layers]+b[num_layers])\n",
    "    \n",
    "    return layer\n",
    "            \n",
    "                \n",
    "        "
   ]
  },
  {
   "cell_type": "code",
   "execution_count": 8,
   "metadata": {},
   "outputs": [],
   "source": [
    "def mnist_batch_func(batch_size=100):\n",
    "    X_batch, Y_batch=mnist.train.next_batch(batch_size)\n",
    "    return [X_batch,Y_batch]"
   ]
  },
  {
   "cell_type": "code",
   "execution_count": 9,
   "metadata": {},
   "outputs": [],
   "source": [
    "def tensorflow_classification(n_epochs, n_batches, batch_size, model, optimizer, loss, accuracy_function, X_test, Y_test):\n",
    "    with tf.Session() as tfs:\n",
    "        tfs.run(tf.global_variables_initializer())\n",
    "        for epoch in range(n_epochs):\n",
    "            epoch_loss = 0.0\n",
    "            for batch in range(n_batches):\n",
    "                X_batch, Y_batch = mnist_batch_func(batch_size)\n",
    "                feed_dict = {x: X_batch, y: Y_batch}\n",
    "                _, batch_loss = tfs.run([optimizer, loss], feed_dict)\n",
    "                epoch_loss += batch_loss\n",
    "            average_loss = epoch_loss / n_batches\n",
    "            print(\"epoch: {0:04d} loss = {1:0.6f}\".format(epoch, average_loss))\n",
    "        feed_dict = {x: X_test, y: Y_test}\n",
    "        accuracy_score = tfs.run(accuracy_function, feed_dict=feed_dict)\n",
    "        print(\"accuracy={0:.8f}\".format(accuracy_score))"
   ]
  },
  {
   "cell_type": "code",
   "execution_count": 10,
   "metadata": {},
   "outputs": [],
   "source": [
    "# input images\n",
    "x = tf.placeholder(dtype=tf.float32, name=\"x\",shape=[None, num_inputs]) \n",
    "# target output\n",
    "y = tf.placeholder(dtype=tf.float32, name=\"y\",shape=[None, num_outputs])\n",
    "num_layers = 0\n",
    "num_neurons = []\n",
    "learning_rate = 0.01\n",
    "n_epochs = 50\n",
    "batch_size = 100\n",
    "n_batches = int(mnist.train.num_examples/batch_size)"
   ]
  },
  {
   "cell_type": "code",
   "execution_count": 11,
   "metadata": {},
   "outputs": [],
   "source": [
    "model = mlp(x=x,num_inputs=num_inputs,num_outputs=num_outputs,num_layers=num_layers,num_neurons=num_neurons)"
   ]
  },
  {
   "cell_type": "code",
   "execution_count": 12,
   "metadata": {},
   "outputs": [],
   "source": [
    "loss = tf.reduce_mean(tf.nn.softmax_cross_entropy_with_logits(logits=model, labels=y))\n",
    "optimizer = tf.train.GradientDescentOptimizer(learning_rate=learning_rate).minimize(loss)\n",
    "\n",
    "predictions_check = tf.equal(tf.argmax(model, 1), tf.argmax(y, 1))\n",
    "accuracy_function = tf.reduce_mean(tf.cast(predictions_check, tf.float32))"
   ]
  },
  {
   "cell_type": "code",
   "execution_count": 13,
   "metadata": {},
   "outputs": [
    {
     "name": "stdout",
     "output_type": "stream",
     "text": [
      "epoch: 0000 loss = 17.508593\n",
      "epoch: 0001 loss = 10.285101\n",
      "epoch: 0002 loss = 7.117124\n",
      "epoch: 0003 loss = 4.910764\n",
      "epoch: 0004 loss = 3.874775\n",
      "epoch: 0005 loss = 3.208509\n",
      "epoch: 0006 loss = 2.848754\n",
      "epoch: 0007 loss = 2.529868\n",
      "epoch: 0008 loss = 2.281672\n",
      "epoch: 0009 loss = 2.190949\n",
      "epoch: 0010 loss = 1.972362\n",
      "epoch: 0011 loss = 1.865501\n",
      "epoch: 0012 loss = 1.758233\n",
      "epoch: 0013 loss = 1.727266\n",
      "epoch: 0014 loss = 1.591899\n",
      "epoch: 0015 loss = 1.529683\n",
      "epoch: 0016 loss = 1.478722\n",
      "epoch: 0017 loss = 1.424074\n",
      "epoch: 0018 loss = 1.454434\n",
      "epoch: 0019 loss = 1.407854\n",
      "epoch: 0020 loss = 1.363556\n",
      "epoch: 0021 loss = 1.349027\n",
      "epoch: 0022 loss = 1.321639\n",
      "epoch: 0023 loss = 1.265656\n",
      "epoch: 0024 loss = 1.307473\n",
      "epoch: 0025 loss = 1.203711\n",
      "epoch: 0026 loss = 1.171709\n",
      "epoch: 0027 loss = 1.195635\n",
      "epoch: 0028 loss = 1.165320\n",
      "epoch: 0029 loss = 1.164651\n",
      "epoch: 0030 loss = 1.161457\n",
      "epoch: 0031 loss = 1.171555\n",
      "epoch: 0032 loss = 1.126406\n",
      "epoch: 0033 loss = 1.094738\n",
      "epoch: 0034 loss = 1.067050\n",
      "epoch: 0035 loss = 1.119306\n",
      "epoch: 0036 loss = 1.061331\n",
      "epoch: 0037 loss = 1.041405\n",
      "epoch: 0038 loss = 1.040072\n",
      "epoch: 0039 loss = 1.048072\n",
      "epoch: 0040 loss = 1.012057\n",
      "epoch: 0041 loss = 1.069032\n",
      "epoch: 0042 loss = 0.987567\n",
      "epoch: 0043 loss = 0.992513\n",
      "epoch: 0044 loss = 0.981461\n",
      "epoch: 0045 loss = 0.962485\n",
      "epoch: 0046 loss = 0.978943\n",
      "epoch: 0047 loss = 1.001552\n",
      "epoch: 0048 loss = 0.926087\n",
      "epoch: 0049 loss = 0.946490\n",
      "accuracy=0.81209999\n"
     ]
    }
   ],
   "source": [
    "tensorflow_classification(n_epochs, n_batches, batch_size, model, optimizer, loss, accuracy_function, X_test, Y_test)"
   ]
  },
  {
   "cell_type": "code",
   "execution_count": null,
   "metadata": {},
   "outputs": [],
   "source": []
  },
  {
   "cell_type": "code",
   "execution_count": null,
   "metadata": {},
   "outputs": [],
   "source": []
  }
 ],
 "metadata": {
  "kernelspec": {
   "display_name": "Python 3",
   "language": "python",
   "name": "python3"
  },
  "language_info": {
   "codemirror_mode": {
    "name": "ipython",
    "version": 3
   },
   "file_extension": ".py",
   "mimetype": "text/x-python",
   "name": "python",
   "nbconvert_exporter": "python",
   "pygments_lexer": "ipython3",
   "version": "3.6.4rc1"
  }
 },
 "nbformat": 4,
 "nbformat_minor": 2
}
