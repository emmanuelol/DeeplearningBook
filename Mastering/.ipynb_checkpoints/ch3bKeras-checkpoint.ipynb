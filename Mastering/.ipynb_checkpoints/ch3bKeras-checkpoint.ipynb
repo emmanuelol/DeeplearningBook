{
 "cells": [
  {
   "cell_type": "code",
   "execution_count": 1,
   "metadata": {},
   "outputs": [
    {
     "name": "stderr",
     "output_type": "stream",
     "text": [
      "c:\\users\\ledra\\appdata\\local\\programs\\python\\python36\\lib\\site-packages\\h5py\\__init__.py:36: FutureWarning: Conversion of the second argument of issubdtype from `float` to `np.floating` is deprecated. In future, it will be treated as `np.float64 == np.dtype(float).type`.\n",
      "  from ._conv import register_converters as _register_converters\n"
     ]
    }
   ],
   "source": [
    "import os\n",
    "import math\n",
    "import numpy as np\n",
    "import pandas as pd\n",
    "import sklearn as sk\n",
    "from sklearn import preprocessing as skpp\n",
    "from sklearn.model_selection import train_test_split \n",
    "import matplotlib as mpl\n",
    "import matplotlib.pyplot as plt\n",
    "import tensorflow as tf"
   ]
  },
  {
   "cell_type": "code",
   "execution_count": 2,
   "metadata": {},
   "outputs": [
    {
     "name": "stderr",
     "output_type": "stream",
     "text": [
      "Using TensorFlow backend.\n"
     ]
    }
   ],
   "source": [
    "import keras\n",
    "from keras.models import Sequential\n",
    "from keras.layers import Dense\n",
    "from keras.layers import LSTM, SimpleRNN, GRU\n",
    "from keras.losses import mean_squared_error as k_mse\n",
    "from keras.backend import sqrt as k_sqrt\n",
    "import keras.backend as K"
   ]
  },
  {
   "cell_type": "code",
   "execution_count": 3,
   "metadata": {},
   "outputs": [],
   "source": [
    "filepath=os.path.join('international-airline-passengers.csv')"
   ]
  },
  {
   "cell_type": "code",
   "execution_count": 4,
   "metadata": {},
   "outputs": [],
   "source": [
    "dataframe=pd.read_csv(filepath,usecols=[1],header=0)"
   ]
  },
  {
   "cell_type": "code",
   "execution_count": 5,
   "metadata": {},
   "outputs": [
    {
     "data": {
      "text/html": [
       "<div>\n",
       "<style scoped>\n",
       "    .dataframe tbody tr th:only-of-type {\n",
       "        vertical-align: middle;\n",
       "    }\n",
       "\n",
       "    .dataframe tbody tr th {\n",
       "        vertical-align: top;\n",
       "    }\n",
       "\n",
       "    .dataframe thead th {\n",
       "        text-align: right;\n",
       "    }\n",
       "</style>\n",
       "<table border=\"1\" class=\"dataframe\">\n",
       "  <thead>\n",
       "    <tr style=\"text-align: right;\">\n",
       "      <th></th>\n",
       "      <th>International airline passengers: monthly totals in thousands. Jan 49 ? Dec 60</th>\n",
       "    </tr>\n",
       "  </thead>\n",
       "  <tbody>\n",
       "    <tr>\n",
       "      <th>0</th>\n",
       "      <td>112.0</td>\n",
       "    </tr>\n",
       "    <tr>\n",
       "      <th>1</th>\n",
       "      <td>118.0</td>\n",
       "    </tr>\n",
       "    <tr>\n",
       "      <th>2</th>\n",
       "      <td>132.0</td>\n",
       "    </tr>\n",
       "    <tr>\n",
       "      <th>3</th>\n",
       "      <td>129.0</td>\n",
       "    </tr>\n",
       "    <tr>\n",
       "      <th>4</th>\n",
       "      <td>121.0</td>\n",
       "    </tr>\n",
       "  </tbody>\n",
       "</table>\n",
       "</div>"
      ],
      "text/plain": [
       "   International airline passengers: monthly totals in thousands. Jan 49 ? Dec 60\n",
       "0                                              112.0                             \n",
       "1                                              118.0                             \n",
       "2                                              132.0                             \n",
       "3                                              129.0                             \n",
       "4                                              121.0                             "
      ]
     },
     "execution_count": 5,
     "metadata": {},
     "output_type": "execute_result"
    }
   ],
   "source": [
    "dataframe.head()"
   ]
  },
  {
   "cell_type": "code",
   "execution_count": 30,
   "metadata": {},
   "outputs": [],
   "source": [
    "dataset=dataframe.values\n",
    "dataset=dataframe.astype(np.float32)"
   ]
  },
  {
   "cell_type": "code",
   "execution_count": 31,
   "metadata": {},
   "outputs": [
    {
     "data": {
      "image/png": "[encoded data removed]",
      "text/plain": [
       "<matplotlib.figure.Figure at 0x1a3239cc9e8>"
      ]
     },
     "metadata": {},
     "output_type": "display_data"
    }
   ],
   "source": [
    "plt.plot(dataset,label='Original Data')\n",
    "plt.legend()\n",
    "plt.xlabel('timesteps')\n",
    "plt.ylabel('Total Passengers')\n",
    "plt.show()"
   ]
  },
  {
   "cell_type": "code",
   "execution_count": 32,
   "metadata": {},
   "outputs": [],
   "source": [
    "# normalize the dataset\n",
    "scaler = skpp.MinMaxScaler(feature_range=(0, 1))\n",
    "impute=skpp.Imputer()\n",
    "imput_dataset = impute.fit_transform(dataset)\n",
    "normalized_dataset=scaler.fit_transform(imput_dataset)"
   ]
  },
  {
   "cell_type": "code",
   "execution_count": 33,
   "metadata": {},
   "outputs": [],
   "source": [
    "x=np.asarray(normalized_dataset[0:-1])\n",
    "y=np.asarray(normalized_dataset[1:])\n"
   ]
  },
  {
   "cell_type": "code",
   "execution_count": 35,
   "metadata": {},
   "outputs": [
    {
     "name": "stdout",
     "output_type": "stream",
     "text": [
      "(96, 1)\n"
     ]
    },
    {
     "data": {
      "text/plain": [
       "96"
      ]
     },
     "execution_count": 35,
     "metadata": {},
     "output_type": "execute_result"
    }
   ],
   "source": [
    "X_train,X_test,Y_train,Y_test=train_test_split(x,y,test_size=0.33,shuffle=False)\n",
    "print(X_train.shape)\n",
    "X_train.shape[0]\n",
    "\n"
   ]
  },
  {
   "cell_type": "markdown",
   "metadata": {},
   "source": [
    "# Keras\n"
   ]
  },
  {
   "cell_type": "code",
   "execution_count": 21,
   "metadata": {},
   "outputs": [],
   "source": [
    "tf.reset_default_graph()\n",
    "keras.backend.clear_session()\n",
    "n_x=1\n",
    "# reshape input to be [samples, time steps, features]\n",
    "X_train = X_train.reshape(X_train.shape[0], X_train.shape[1],1)\n",
    "X_test = X_test.reshape(X_test.shape[0], X_train.shape[1], 1)"
   ]
  },
  {
   "cell_type": "code",
   "execution_count": 22,
   "metadata": {},
   "outputs": [
    {
     "name": "stdout",
     "output_type": "stream",
     "text": [
      "_________________________________________________________________\n",
      "Layer (type)                 Output Shape              Param #   \n",
      "=================================================================\n",
      "simple_rnn_1 (SimpleRNN)     (None, 4)                 24        \n",
      "_________________________________________________________________\n",
      "dense_1 (Dense)              (None, 1)                 5         \n",
      "=================================================================\n",
      "Total params: 29\n",
      "Trainable params: 29\n",
      "Non-trainable params: 0\n",
      "_________________________________________________________________\n",
      "Epoch 1/20\n",
      "96/96 [==============================] - 0s 4ms/step - loss: 0.0206\n",
      "Epoch 2/20\n",
      "96/96 [==============================] - 0s 1ms/step - loss: 0.0092\n",
      "Epoch 3/20\n",
      "96/96 [==============================] - 0s 1ms/step - loss: 0.0071\n",
      "Epoch 4/20\n",
      "96/96 [==============================] - 0s 1ms/step - loss: 0.0056\n",
      "Epoch 5/20\n",
      "96/96 [==============================] - 0s 1ms/step - loss: 0.0043\n",
      "Epoch 6/20\n",
      "96/96 [==============================] - 0s 1ms/step - loss: 0.0035\n",
      "Epoch 7/20\n",
      "96/96 [==============================] - 0s 1ms/step - loss: 0.0029\n",
      "Epoch 8/20\n",
      "96/96 [==============================] - 0s 3ms/step - loss: 0.0025\n",
      "Epoch 9/20\n",
      "96/96 [==============================] - 0s 2ms/step - loss: 0.0023\n",
      "Epoch 10/20\n",
      "96/96 [==============================] - 0s 2ms/step - loss: 0.0022\n",
      "Epoch 11/20\n",
      "96/96 [==============================] - 0s 1ms/step - loss: 0.0021\n",
      "Epoch 12/20\n",
      "96/96 [==============================] - 0s 2ms/step - loss: 0.0020\n",
      "Epoch 13/20\n",
      "96/96 [==============================] - 0s 3ms/step - loss: 0.0021\n",
      "Epoch 14/20\n",
      "96/96 [==============================] - 0s 2ms/step - loss: 0.0020\n",
      "Epoch 15/20\n",
      "96/96 [==============================] - 0s 1ms/step - loss: 0.0020\n",
      "Epoch 16/20\n",
      "96/96 [==============================] - 0s 1ms/step - loss: 0.0020\n",
      "Epoch 17/20\n",
      "96/96 [==============================] - 0s 1ms/step - loss: 0.0020\n",
      "Epoch 18/20\n",
      "96/96 [==============================] - 0s 1ms/step - loss: 0.0020\n",
      "Epoch 19/20\n",
      "96/96 [==============================] - 0s 1ms/step - loss: 0.0020\n",
      "Epoch 20/20\n",
      "96/96 [==============================] - 0s 1ms/step - loss: 0.0021\n"
     ]
    },
    {
     "data": {
      "text/plain": [
       "<keras.callbacks.History at 0x1a3232fc358>"
      ]
     },
     "execution_count": 22,
     "metadata": {},
     "output_type": "execute_result"
    }
   ],
   "source": [
    "# create and fit the SimpleRNN model\n",
    "model = Sequential()\n",
    "model.add(SimpleRNN(units=4, input_shape=(X_train.shape[1], X_train.shape[2])))\n",
    "model.add(Dense(1))\n",
    "model.compile(loss='mean_squared_error', optimizer='adam')\n",
    "model.summary()\n",
    "model.fit(X_train, Y_train, epochs=20, batch_size=1)"
   ]
  },
  {
   "cell_type": "code",
   "execution_count": 23,
   "metadata": {},
   "outputs": [
    {
     "name": "stdout",
     "output_type": "stream",
     "text": [
      "Train Score: 22.71 RMSE\n",
      "Test Score: 53.34 RMSE\n"
     ]
    }
   ],
   "source": [
    "# make predictions\n",
    "y_train_pred = model.predict(X_train)\n",
    "y_test_pred = model.predict(X_test)\n",
    "\n",
    "# invert predictions\n",
    "y_train_pred = scaler.inverse_transform(y_train_pred)\n",
    "y_test_pred = scaler.inverse_transform(y_test_pred)\n",
    "\n",
    "#invert originals\n",
    "y_train_orig = scaler.inverse_transform(Y_train)\n",
    "y_test_orig = scaler.inverse_transform(Y_test)\n",
    "\n",
    "# calculate root mean squared error\n",
    "trainScore = k_sqrt(k_mse(y_train_orig[:,0],\n",
    "                          y_train_pred[:,0])\n",
    "                   ).eval(session=K.get_session())\n",
    "print('Train Score: {0:.2f} RMSE'.format(trainScore))\n",
    "testScore = k_sqrt(k_mse(y_test_orig[:,0],\n",
    "                         y_test_pred[:,0])\n",
    "                  ).eval(session=K.get_session())\n",
    "print('Test Score: {0:.2f} RMSE'.format(testScore))"
   ]
  },
  {
   "cell_type": "code",
   "execution_count": 28,
   "metadata": {},
   "outputs": [
    {
     "data": {
      "text/plain": [
       "(145, 1)"
      ]
     },
     "execution_count": 28,
     "metadata": {},
     "output_type": "execute_result"
    }
   ],
   "source": [
    "trainPredictPlot = np.empty_like(normalized_dataset)\n",
    "trainPredictPlot.shape"
   ]
  },
  {
   "cell_type": "code",
   "execution_count": 29,
   "metadata": {},
   "outputs": [
    {
     "data": {
      "image/png": "[encoded data removed]",
      "text/plain": [
       "<matplotlib.figure.Figure at 0x1a3231afcf8>"
      ]
     },
     "metadata": {},
     "output_type": "display_data"
    }
   ],
   "source": [
    "# shift train predictions for plotting\n",
    "trainPredictPlot = np.empty_like(normalized_dataset)\n",
    "trainPredictPlot[:, :] = np.nan\n",
    "trainPredictPlot[n_x:len(y_train_pred)+n_x, :] = y_train_pred\n",
    "# shift test predictions for plotting\n",
    "testPredictPlot = np.empty_like(normalized_dataset)\n",
    "testPredictPlot[:, :] = np.nan\n",
    "testPredictPlot[len(y_train_pred)+(n_x*2)-1:len(normalized_dataset),:]=y_test_pred\n",
    "# plot baseline and predictions\n",
    "plt.plot(scaler.inverse_transform(normalized_dataset),label='Original Data')\n",
    "plt.plot(trainPredictPlot,label='y_train_pred')\n",
    "plt.plot(testPredictPlot,label='y_test_pred')\n",
    "plt.legend()\n",
    "plt.xlabel('Timesteps')\n",
    "plt.ylabel('Total Passengers')\n",
    "plt.show()"
   ]
  },
  {
   "cell_type": "markdown",
   "metadata": {},
   "source": [
    "# keras LSTM"
   ]
  },
  {
   "cell_type": "code",
   "execution_count": 36,
   "metadata": {},
   "outputs": [],
   "source": [
    "tf.reset_default_graph()\n",
    "keras.backend.clear_session()\n",
    "\n",
    "# reshape input to be [samples, time steps, features]\n",
    "X_train = X_train.reshape(X_train.shape[0], X_train.shape[1],1)\n",
    "X_test = X_test.reshape(X_test.shape[0], X_train.shape[1], 1)\n"
   ]
  },
  {
   "cell_type": "code",
   "execution_count": 37,
   "metadata": {},
   "outputs": [
    {
     "name": "stdout",
     "output_type": "stream",
     "text": [
      "_________________________________________________________________\n",
      "Layer (type)                 Output Shape              Param #   \n",
      "=================================================================\n",
      "lstm_1 (LSTM)                (None, 4)                 96        \n",
      "_________________________________________________________________\n",
      "dense_1 (Dense)              (None, 1)                 5         \n",
      "=================================================================\n",
      "Total params: 101\n",
      "Trainable params: 101\n",
      "Non-trainable params: 0\n",
      "_________________________________________________________________\n",
      "Epoch 1/20\n",
      "96/96 [==============================] - 1s 11ms/step - loss: 0.0234\n",
      "Epoch 2/20\n",
      "96/96 [==============================] - 0s 2ms/step - loss: 0.0104\n",
      "Epoch 3/20\n",
      "96/96 [==============================] - 0s 2ms/step - loss: 0.0088\n",
      "Epoch 4/20\n",
      "96/96 [==============================] - 0s 2ms/step - loss: 0.0077\n",
      "Epoch 5/20\n",
      "96/96 [==============================] - 0s 2ms/step - loss: 0.0070\n",
      "Epoch 6/20\n",
      "96/96 [==============================] - 0s 2ms/step - loss: 0.0060\n",
      "Epoch 7/20\n",
      "96/96 [==============================] - 0s 2ms/step - loss: 0.0052\n",
      "Epoch 8/20\n",
      "96/96 [==============================] - 0s 2ms/step - loss: 0.0045\n",
      "Epoch 9/20\n",
      "96/96 [==============================] - 0s 2ms/step - loss: 0.0040\n",
      "Epoch 10/20\n",
      "96/96 [==============================] - 0s 2ms/step - loss: 0.0033\n",
      "Epoch 11/20\n",
      "96/96 [==============================] - 0s 2ms/step - loss: 0.0030\n",
      "Epoch 12/20\n",
      "96/96 [==============================] - 0s 3ms/step - loss: 0.0026\n",
      "Epoch 13/20\n",
      "96/96 [==============================] - 0s 4ms/step - loss: 0.0024\n",
      "Epoch 14/20\n",
      "96/96 [==============================] - 0s 3ms/step - loss: 0.0023\n",
      "Epoch 15/20\n",
      "96/96 [==============================] - 0s 3ms/step - loss: 0.0022\n",
      "Epoch 16/20\n",
      "96/96 [==============================] - 0s 2ms/step - loss: 0.0021\n",
      "Epoch 17/20\n",
      "96/96 [==============================] - 0s 3ms/step - loss: 0.0020\n",
      "Epoch 18/20\n",
      "96/96 [==============================] - 0s 3ms/step - loss: 0.0021\n",
      "Epoch 19/20\n",
      "96/96 [==============================] - 0s 3ms/step - loss: 0.0021\n",
      "Epoch 20/20\n",
      "96/96 [==============================] - 0s 3ms/step - loss: 0.0020\n"
     ]
    },
    {
     "data": {
      "text/plain": [
       "<keras.callbacks.History at 0x1a323a4ceb8>"
      ]
     },
     "execution_count": 37,
     "metadata": {},
     "output_type": "execute_result"
    }
   ],
   "source": [
    "# create and fit the LSTM model\n",
    "model = Sequential()\n",
    "model.add(LSTM(units=4, input_shape=(X_train.shape[1], X_train.shape[2])))\n",
    "model.add(Dense(1))\n",
    "model.compile(loss='mean_squared_error', optimizer='adam')\n",
    "model.summary()\n",
    "model.fit(X_train, Y_train, epochs=20, batch_size=1)"
   ]
  },
  {
   "cell_type": "code",
   "execution_count": 38,
   "metadata": {},
   "outputs": [
    {
     "name": "stdout",
     "output_type": "stream",
     "text": [
      "Train Score: 23.35 RMSE\n",
      "Test Score: 54.11 RMSE\n"
     ]
    }
   ],
   "source": [
    "# make predictions\n",
    "y_train_pred = model.predict(X_train)\n",
    "y_test_pred = model.predict(X_test)\n",
    "\n",
    "# invert predictions\n",
    "y_train_pred = scaler.inverse_transform(y_train_pred)\n",
    "y_test_pred = scaler.inverse_transform(y_test_pred)\n",
    "\n",
    "# invert originals\n",
    "y_train_orig = scaler.inverse_transform(Y_train)\n",
    "y_test_orig = scaler.inverse_transform(Y_test)\n",
    "\n",
    "# calculate root mean squared error\n",
    "trainScore = k_sqrt(k_mse(y_train_orig[:,0],\n",
    "                          y_train_pred[:,0])\n",
    "                   ).eval(session=K.get_session())\n",
    "print('Train Score: {0:.2f} RMSE'.format(trainScore))\n",
    "testScore = k_sqrt(k_mse(y_test_orig[:,0],\n",
    "                         y_test_pred[:,0])\n",
    "                  ).eval(session=K.get_session())\n",
    "print('Test Score: {0:.2f} RMSE'.format(testScore))"
   ]
  },
  {
   "cell_type": "code",
   "execution_count": 40,
   "metadata": {},
   "outputs": [],
   "source": [
    "# shift train predictions for plotting\n",
    "trainPredictPlot = np.empty_like(normalized_dataset)\n",
    "trainPredictPlot[:, :] = np.nan\n",
    "trainPredictPlot[n_x:len(y_train_pred)+n_x, :] = y_train_pred\n",
    "\n",
    "# shift test predictions for plotting\n",
    "testPredictPlot = np.empty_like(normalized_dataset)\n",
    "testPredictPlot[:, :] = np.nan\n",
    "testPredictPlot[len(y_train_pred)+(n_x*2)-n_x:len(normalized_dataset), :] = y_test_pred\n"
   ]
  },
  {
   "cell_type": "code",
   "execution_count": 41,
   "metadata": {},
   "outputs": [
    {
     "data": {
      "image/png": "[encoded data removed]",
      "text/plain": [
       "<matplotlib.figure.Figure at 0x1a325202dd8>"
      ]
     },
     "metadata": {},
     "output_type": "display_data"
    }
   ],
   "source": [
    "# plot baseline and predictions\n",
    "plt.plot(scaler.inverse_transform(normalized_dataset),label='Original Data')\n",
    "plt.plot(trainPredictPlot,label='y_train_pred')\n",
    "plt.plot(testPredictPlot,label='y_test_pred')\n",
    "plt.legend()\n",
    "plt.xlabel('Timesteps')\n",
    "plt.ylabel('Total Passengers')\n",
    "plt.show()"
   ]
  },
  {
   "cell_type": "code",
   "execution_count": 42,
   "metadata": {},
   "outputs": [],
   "source": [
    "tf.reset_default_graph()\n",
    "keras.backend.clear_session()\n"
   ]
  },
  {
   "cell_type": "code",
   "execution_count": 43,
   "metadata": {},
   "outputs": [],
   "source": [
    "# reshape input to be [samples, time steps, features]\n",
    "X_train = X_train.reshape(X_train.shape[0], X_train.shape[1],1)\n",
    "X_test = X_test.reshape(X_test.shape[0], X_train.shape[1], 1)\n"
   ]
  },
  {
   "cell_type": "code",
   "execution_count": 44,
   "metadata": {},
   "outputs": [
    {
     "name": "stdout",
     "output_type": "stream",
     "text": [
      "_________________________________________________________________\n",
      "Layer (type)                 Output Shape              Param #   \n",
      "=================================================================\n",
      "gru_1 (GRU)                  (None, 4)                 72        \n",
      "_________________________________________________________________\n",
      "dense_1 (Dense)              (None, 1)                 5         \n",
      "=================================================================\n",
      "Total params: 77\n",
      "Trainable params: 77\n",
      "Non-trainable params: 0\n",
      "_________________________________________________________________\n",
      "Epoch 1/20\n",
      "96/96 [==============================] - 1s 9ms/step - loss: 0.0393\n",
      "Epoch 2/20\n",
      "96/96 [==============================] - 0s 2ms/step - loss: 0.0176\n",
      "Epoch 3/20\n",
      "96/96 [==============================] - 0s 2ms/step - loss: 0.0149\n",
      "Epoch 4/20\n",
      "96/96 [==============================] - 0s 1ms/step - loss: 0.0132\n",
      "Epoch 5/20\n",
      "96/96 [==============================] - 0s 1ms/step - loss: 0.0117\n",
      "Epoch 6/20\n",
      "96/96 [==============================] - 0s 3ms/step - loss: 0.0102\n",
      "Epoch 7/20\n",
      "96/96 [==============================] - 0s 2ms/step - loss: 0.0091\n",
      "Epoch 8/20\n",
      "96/96 [==============================] - 0s 2ms/step - loss: 0.0080\n",
      "Epoch 9/20\n",
      "96/96 [==============================] - 0s 1ms/step - loss: 0.0069\n",
      "Epoch 10/20\n",
      "96/96 [==============================] - 0s 1ms/step - loss: 0.0059\n",
      "Epoch 11/20\n",
      "96/96 [==============================] - 0s 2ms/step - loss: 0.0051\n",
      "Epoch 12/20\n",
      "96/96 [==============================] - 0s 1ms/step - loss: 0.0044\n",
      "Epoch 13/20\n",
      "96/96 [==============================] - 0s 1ms/step - loss: 0.0038\n",
      "Epoch 14/20\n",
      "96/96 [==============================] - 0s 1ms/step - loss: 0.0032\n",
      "Epoch 15/20\n",
      "96/96 [==============================] - 0s 2ms/step - loss: 0.0030\n",
      "Epoch 16/20\n",
      "96/96 [==============================] - 0s 2ms/step - loss: 0.0027\n",
      "Epoch 17/20\n",
      "96/96 [==============================] - 0s 2ms/step - loss: 0.0025\n",
      "Epoch 18/20\n",
      "96/96 [==============================] - 0s 2ms/step - loss: 0.0023\n",
      "Epoch 19/20\n",
      "96/96 [==============================] - 0s 2ms/step - loss: 0.0022\n",
      "Epoch 20/20\n",
      "96/96 [==============================] - 0s 1ms/step - loss: 0.0022\n"
     ]
    },
    {
     "data": {
      "text/plain": [
       "<keras.callbacks.History at 0x1a3250a8b00>"
      ]
     },
     "execution_count": 44,
     "metadata": {},
     "output_type": "execute_result"
    }
   ],
   "source": [
    "# create and fit the GRU Model\n",
    "model = Sequential()\n",
    "model.add(GRU(units=4, input_shape=(X_train.shape[1], X_train.shape[2])))\n",
    "model.add(Dense(1))\n",
    "model.compile(loss='mean_squared_error', optimizer='adam')\n",
    "model.summary()\n",
    "model.fit(X_train, Y_train, epochs=20, batch_size=1)"
   ]
  },
  {
   "cell_type": "code",
   "execution_count": 45,
   "metadata": {},
   "outputs": [],
   "source": [
    "# make predictions\n",
    "y_train_pred = model.predict(X_train)\n",
    "y_test_pred = model.predict(X_test)\n",
    "# invert predictions\n",
    "y_train_pred = scaler.inverse_transform(y_train_pred)\n",
    "y_test_pred = scaler.inverse_transform(y_test_pred)\n"
   ]
  },
  {
   "cell_type": "code",
   "execution_count": 46,
   "metadata": {},
   "outputs": [],
   "source": [
    "#invert originals\n",
    "y_train_orig = scaler.inverse_transform(Y_train)\n",
    "y_test_orig = scaler.inverse_transform(Y_test)"
   ]
  },
  {
   "cell_type": "code",
   "execution_count": 47,
   "metadata": {},
   "outputs": [
    {
     "name": "stdout",
     "output_type": "stream",
     "text": [
      "Train Score: 23.40 RMSE\n",
      "Test Score: 54.57 RMSE\n"
     ]
    }
   ],
   "source": [
    "\n",
    "# calculate root mean squared error\n",
    "trainScore = k_sqrt(k_mse(y_train_orig[:,0],\n",
    "                          y_train_pred[:,0])\n",
    "                   ).eval(session=K.get_session())\n",
    "print('Train Score: {0:.2f} RMSE'.format(trainScore))\n",
    "testScore = k_sqrt(k_mse(y_test_orig[:,0],\n",
    "                         y_test_pred[:,0])\n",
    "                  ).eval(session=K.get_session())\n",
    "print('Test Score: {0:.2f} RMSE'.format(testScore))"
   ]
  },
  {
   "cell_type": "code",
   "execution_count": 49,
   "metadata": {},
   "outputs": [],
   "source": [
    "# shift train predictions for plotting\n",
    "trainPredictPlot = np.empty_like(normalized_dataset)\n",
    "trainPredictPlot[:, :] = np.nan\n",
    "trainPredictPlot[n_x:len(y_train_pred)+n_x, :] = y_train_pred\n",
    "\n",
    "# shift test predictions for plotting\n",
    "testPredictPlot = np.empty_like(normalized_dataset)\n",
    "testPredictPlot[:, :] = np.nan\n",
    "testPredictPlot[len(y_train_pred)+(n_x*2)-n_x:len(normalized_dataset), :] = y_test_pred\n"
   ]
  },
  {
   "cell_type": "code",
   "execution_count": 50,
   "metadata": {},
   "outputs": [
    {
     "data": {
      "image/png": "[encoded data removed]",
      "text/plain": [
       "<matplotlib.figure.Figure at 0x1a326a97518>"
      ]
     },
     "metadata": {},
     "output_type": "display_data"
    }
   ],
   "source": [
    "# plot baseline and predictions\n",
    "plt.plot(scaler.inverse_transform(normalized_dataset),label='Original Data')\n",
    "plt.plot(trainPredictPlot,label='y_train_pred')\n",
    "plt.plot(testPredictPlot,label='y_test_pred')\n",
    "plt.legend()\n",
    "plt.xlabel('Timesteps')\n",
    "plt.ylabel('Total Passengers')\n",
    "plt.show()"
   ]
  },
  {
   "cell_type": "code",
   "execution_count": null,
   "metadata": {},
   "outputs": [],
   "source": []
  }
 ],
 "metadata": {
  "kernelspec": {
   "display_name": "Python 3",
   "language": "python",
   "name": "python3"
  },
  "language_info": {
   "codemirror_mode": {
    "name": "ipython",
    "version": 3
   },
   "file_extension": ".py",
   "mimetype": "text/x-python",
   "name": "python",
   "nbconvert_exporter": "python",
   "pygments_lexer": "ipython3",
   "version": "3.6.4rc1"
  }
 },
 "nbformat": 4,
 "nbformat_minor": 2
}
