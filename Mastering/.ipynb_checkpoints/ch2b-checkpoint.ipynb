{
 "cells": [
  {
   "cell_type": "code",
   "execution_count": 2,
   "metadata": {},
   "outputs": [
    {
     "name": "stderr",
     "output_type": "stream",
     "text": [
      "c:\\users\\ledra\\appdata\\local\\programs\\python\\python36\\lib\\site-packages\\h5py\\__init__.py:36: FutureWarning: Conversion of the second argument of issubdtype from `float` to `np.floating` is deprecated. In future, it will be treated as `np.float64 == np.dtype(float).type`.\n",
      "  from ._conv import register_converters as _register_converters\n",
      "Using TensorFlow backend.\n"
     ]
    }
   ],
   "source": [
    "import keras\n",
    "from keras.models import Sequential\n",
    "from keras.layers import Dense\n",
    "from keras.optimizers import SGD"
   ]
  },
  {
   "cell_type": "code",
   "execution_count": 3,
   "metadata": {},
   "outputs": [],
   "source": [
    "import os\n",
    "import tensorflow as tf\n",
    "import numpy as np\n",
    "from tensorflow.examples.tutorials.mnist import input_data"
   ]
  },
  {
   "cell_type": "code",
   "execution_count": 4,
   "metadata": {},
   "outputs": [
    {
     "name": "stdout",
     "output_type": "stream",
     "text": [
      "Extracting .\\mnist\\train-images-idx3-ubyte.gz\n",
      "Extracting .\\mnist\\train-labels-idx1-ubyte.gz\n",
      "Extracting .\\mnist\\t10k-images-idx3-ubyte.gz\n",
      "Extracting .\\mnist\\t10k-labels-idx1-ubyte.gz\n"
     ]
    }
   ],
   "source": [
    "tf.reset_default_graph()\n",
    "\n",
    "mnist = input_data.read_data_sets(os.path.join('.', 'mnist'), one_hot=True)"
   ]
  },
  {
   "cell_type": "code",
   "execution_count": 5,
   "metadata": {},
   "outputs": [],
   "source": [
    "X_train=mnist.train.images\n",
    "X_test=mnist.test.images\n",
    "Y_train=mnist.train.labels\n",
    "Y_test=mnist.test.labels"
   ]
  },
  {
   "cell_type": "code",
   "execution_count": 6,
   "metadata": {},
   "outputs": [],
   "source": [
    "num_outputs=10\n",
    "num_inputs=784"
   ]
  },
  {
   "cell_type": "code",
   "execution_count": 7,
   "metadata": {},
   "outputs": [],
   "source": [
    "num_layers=2\n",
    "num_neurons=[]\n",
    "for i in range(num_layers):\n",
    "    num_neurons.append(256)\n",
    "learning_rate=0.01\n",
    "n_epochs=50\n",
    "batch_size=100\n"
   ]
  },
  {
   "cell_type": "code",
   "execution_count": 8,
   "metadata": {},
   "outputs": [],
   "source": [
    "model=Sequential()"
   ]
  },
  {
   "cell_type": "code",
   "execution_count": 9,
   "metadata": {},
   "outputs": [],
   "source": [
    "model.add(Dense(units=num_neurons[0],activation='relu',input_shape=(num_inputs,)))"
   ]
  },
  {
   "cell_type": "code",
   "execution_count": 10,
   "metadata": {},
   "outputs": [],
   "source": [
    "model.add(Dense(units=num_neurons[1],activation='relu'))"
   ]
  },
  {
   "cell_type": "code",
   "execution_count": 11,
   "metadata": {},
   "outputs": [],
   "source": [
    "model.add(Dense(units=num_outputs,activation='softmax'))"
   ]
  },
  {
   "cell_type": "code",
   "execution_count": 12,
   "metadata": {},
   "outputs": [
    {
     "name": "stdout",
     "output_type": "stream",
     "text": [
      "_________________________________________________________________\n",
      "Layer (type)                 Output Shape              Param #   \n",
      "=================================================================\n",
      "dense_1 (Dense)              (None, 256)               200960    \n",
      "_________________________________________________________________\n",
      "dense_2 (Dense)              (None, 256)               65792     \n",
      "_________________________________________________________________\n",
      "dense_3 (Dense)              (None, 10)                2570      \n",
      "=================================================================\n",
      "Total params: 269,322\n",
      "Trainable params: 269,322\n",
      "Non-trainable params: 0\n",
      "_________________________________________________________________\n"
     ]
    }
   ],
   "source": [
    "model.summary()"
   ]
  },
  {
   "cell_type": "code",
   "execution_count": 13,
   "metadata": {},
   "outputs": [],
   "source": [
    "model.compile(loss='categorical_crossentropy',optimizer=SGD(lr=learning_rate),metrics=['accuracy'])"
   ]
  },
  {
   "cell_type": "code",
   "execution_count": 14,
   "metadata": {
    "scrolled": true
   },
   "outputs": [
    {
     "name": "stdout",
     "output_type": "stream",
     "text": [
      "Epoch 1/50\n",
      "55000/55000 [==============================] - 4s 79us/step - loss: 1.1119 - acc: 0.7406: 0s - loss: 1.25\n",
      "Epoch 2/50\n",
      "55000/55000 [==============================] - 5s 82us/step - loss: 0.4410 - acc: 0.8835\n",
      "Epoch 3/50\n",
      "55000/55000 [==============================] - 4s 70us/step - loss: 0.3549 - acc: 0.9010\n",
      "Epoch 4/50\n",
      "55000/55000 [==============================] - 4s 80us/step - loss: 0.3164 - acc: 0.9103\n",
      "Epoch 5/50\n",
      "55000/55000 [==============================] - 4s 68us/step - loss: 0.2908 - acc: 0.9174\n",
      "Epoch 6/50\n",
      "55000/55000 [==============================] - 4s 69us/step - loss: 0.2708 - acc: 0.9228\n",
      "Epoch 7/50\n",
      "55000/55000 [==============================] - 4s 66us/step - loss: 0.2541 - acc: 0.9278\n",
      "Epoch 8/50\n",
      "55000/55000 [==============================] - 3s 60us/step - loss: 0.2398 - acc: 0.9319\n",
      "Epoch 9/50\n",
      "55000/55000 [==============================] - 3s 54us/step - loss: 0.2273 - acc: 0.9357\n",
      "Epoch 10/50\n",
      "55000/55000 [==============================] - 3s 54us/step - loss: 0.2162 - acc: 0.9385\n",
      "Epoch 11/50\n",
      "55000/55000 [==============================] - 3s 54us/step - loss: 0.2057 - acc: 0.9418\n",
      "Epoch 12/50\n",
      "55000/55000 [==============================] - 3s 55us/step - loss: 0.1966 - acc: 0.9441\n",
      "Epoch 13/50\n",
      "55000/55000 [==============================] - 3s 55us/step - loss: 0.1878 - acc: 0.9466\n",
      "Epoch 14/50\n",
      "55000/55000 [==============================] - 3s 55us/step - loss: 0.1804 - acc: 0.9490\n",
      "Epoch 15/50\n",
      "55000/55000 [==============================] - 3s 55us/step - loss: 0.1731 - acc: 0.9510\n",
      "Epoch 16/50\n",
      "55000/55000 [==============================] - 3s 55us/step - loss: 0.1664 - acc: 0.9528\n",
      "Epoch 17/50\n",
      "55000/55000 [==============================] - 3s 54us/step - loss: 0.1602 - acc: 0.9544\n",
      "Epoch 18/50\n",
      "55000/55000 [==============================] - 3s 55us/step - loss: 0.1544 - acc: 0.9559\n",
      "Epoch 19/50\n",
      "55000/55000 [==============================] - 3s 55us/step - loss: 0.1489 - acc: 0.9576\n",
      "Epoch 20/50\n",
      "55000/55000 [==============================] - 3s 55us/step - loss: 0.1439 - acc: 0.9587\n",
      "Epoch 21/50\n",
      "55000/55000 [==============================] - 3s 55us/step - loss: 0.1390 - acc: 0.9609\n",
      "Epoch 22/50\n",
      "55000/55000 [==============================] - 3s 55us/step - loss: 0.1346 - acc: 0.9615\n",
      "Epoch 23/50\n",
      "55000/55000 [==============================] - 3s 55us/step - loss: 0.1302 - acc: 0.9629\n",
      "Epoch 24/50\n",
      "55000/55000 [==============================] - 3s 54us/step - loss: 0.1262 - acc: 0.9637\n",
      "Epoch 25/50\n",
      "55000/55000 [==============================] - 3s 55us/step - loss: 0.1224 - acc: 0.9654\n",
      "Epoch 26/50\n",
      "55000/55000 [==============================] - 3s 55us/step - loss: 0.1188 - acc: 0.9664\n",
      "Epoch 27/50\n",
      "55000/55000 [==============================] - 3s 55us/step - loss: 0.1150 - acc: 0.9674\n",
      "Epoch 28/50\n",
      "55000/55000 [==============================] - 3s 55us/step - loss: 0.1118 - acc: 0.9687\n",
      "Epoch 29/50\n",
      "55000/55000 [==============================] - 3s 55us/step - loss: 0.1088 - acc: 0.9693\n",
      "Epoch 30/50\n",
      "55000/55000 [==============================] - 3s 54us/step - loss: 0.1058 - acc: 0.9702\n",
      "Epoch 31/50\n",
      "55000/55000 [==============================] - 3s 56us/step - loss: 0.1029 - acc: 0.9711\n",
      "Epoch 32/50\n",
      "55000/55000 [==============================] - 3s 56us/step - loss: 0.1001 - acc: 0.9720\n",
      "Epoch 33/50\n",
      "55000/55000 [==============================] - 3s 55us/step - loss: 0.0973 - acc: 0.9732\n",
      "Epoch 34/50\n",
      "55000/55000 [==============================] - 3s 55us/step - loss: 0.0948 - acc: 0.9735\n",
      "Epoch 35/50\n",
      "55000/55000 [==============================] - 3s 56us/step - loss: 0.0927 - acc: 0.9743\n",
      "Epoch 36/50\n",
      "55000/55000 [==============================] - 3s 55us/step - loss: 0.0901 - acc: 0.9751\n",
      "Epoch 37/50\n",
      "55000/55000 [==============================] - 3s 55us/step - loss: 0.0877 - acc: 0.9754\n",
      "Epoch 38/50\n",
      "55000/55000 [==============================] - 3s 55us/step - loss: 0.0857 - acc: 0.9763\n",
      "Epoch 39/50\n",
      "55000/55000 [==============================] - 3s 55us/step - loss: 0.0835 - acc: 0.9769\n",
      "Epoch 40/50\n",
      "55000/55000 [==============================] - 3s 55us/step - loss: 0.0816 - acc: 0.9776\n",
      "Epoch 41/50\n",
      "55000/55000 [==============================] - 3s 55us/step - loss: 0.0795 - acc: 0.9781\n",
      "Epoch 42/50\n",
      "55000/55000 [==============================] - 3s 61us/step - loss: 0.0777 - acc: 0.9787\n",
      "Epoch 43/50\n",
      "55000/55000 [==============================] - 4s 66us/step - loss: 0.0760 - acc: 0.9792\n",
      "Epoch 44/50\n",
      "55000/55000 [==============================] - 3s 61us/step - loss: 0.0743 - acc: 0.9795\n",
      "Epoch 45/50\n",
      "55000/55000 [==============================] - 3s 54us/step - loss: 0.0723 - acc: 0.9803\n",
      "Epoch 46/50\n",
      "55000/55000 [==============================] - 4s 65us/step - loss: 0.0707 - acc: 0.9811\n",
      "Epoch 47/50\n",
      "55000/55000 [==============================] - 3s 51us/step - loss: 0.0691 - acc: 0.9813\n",
      "Epoch 48/50\n",
      "55000/55000 [==============================] - 3s 51us/step - loss: 0.0675 - acc: 0.9814\n",
      "Epoch 49/50\n",
      "55000/55000 [==============================] - 3s 46us/step - loss: 0.0660 - acc: 0.9823\n",
      "Epoch 50/50\n",
      "55000/55000 [==============================] - 3s 50us/step - loss: 0.0647 - acc: 0.9828\n"
     ]
    },
    {
     "data": {
      "text/plain": [
       "<keras.callbacks.History at 0x1bb252e49e8>"
      ]
     },
     "execution_count": 14,
     "metadata": {},
     "output_type": "execute_result"
    }
   ],
   "source": [
    "model.fit(X_train,Y_train,batch_size=batch_size,epochs=n_epochs)"
   ]
  },
  {
   "cell_type": "code",
   "execution_count": 15,
   "metadata": {},
   "outputs": [
    {
     "name": "stdout",
     "output_type": "stream",
     "text": [
      "10000/10000 [==============================] - 1s 52us/step\n",
      "\n",
      "Test loss: 0.08825738456565886\n",
      "Test accuracy: 0.9735\n"
     ]
    }
   ],
   "source": [
    "score = model.evaluate(X_test, Y_test)\n",
    "print('\\nTest loss:', score[0])\n",
    "print('Test accuracy:', score[1])"
   ]
  },
  {
   "cell_type": "code",
   "execution_count": null,
   "metadata": {},
   "outputs": [],
   "source": []
  }
 ],
 "metadata": {
  "kernelspec": {
   "display_name": "Python 3",
   "language": "python",
   "name": "python3"
  },
  "language_info": {
   "codemirror_mode": {
    "name": "ipython",
    "version": 3
   },
   "file_extension": ".py",
   "mimetype": "text/x-python",
   "name": "python",
   "nbconvert_exporter": "python",
   "pygments_lexer": "ipython3",
   "version": "3.6.4rc1"
  }
 },
 "nbformat": 4,
 "nbformat_minor": 2
}
