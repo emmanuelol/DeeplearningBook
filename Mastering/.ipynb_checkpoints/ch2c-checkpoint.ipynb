{
 "cells": [
  {
   "cell_type": "code",
   "execution_count": 5,
   "metadata": {},
   "outputs": [],
   "source": [
    "import keras\n",
    "import keras\n",
    "from keras.models import Sequential\n",
    "from keras.layers import Dense,Activation\n",
    "from keras.layers.recurrent import SimpleRNN\n",
    "from keras.optimizers import RMSprop,SGD"
   ]
  },
  {
   "cell_type": "code",
   "execution_count": 8,
   "metadata": {},
   "outputs": [
    {
     "name": "stdout",
     "output_type": "stream",
     "text": [
      "Extracting .\\mnist\\train-images-idx3-ubyte.gz\n",
      "Extracting .\\mnist\\train-labels-idx1-ubyte.gz\n",
      "Extracting .\\mnist\\t10k-images-idx3-ubyte.gz\n",
      "Extracting .\\mnist\\t10k-labels-idx1-ubyte.gz\n"
     ]
    }
   ],
   "source": [
    "from tensorflow.examples.tutorials.mnist import input_data\n",
    "mnist = input_data.read_data_sets(os.path.join('.', 'mnist'), one_hot=True)\n",
    "X_train = mnist.train.images\n",
    "X_test = mnist.test.images\n",
    "Y_train = mnist.train.labels\n",
    "Y_test = mnist.test.labels\n",
    "n_classes = 10\n",
    "n_classes = 10\n",
    "X_train = X_train.reshape(-1,28,28)\n",
    "X_test = X_test.reshape(-1,28,28)"
   ]
  },
  {
   "cell_type": "code",
   "execution_count": 9,
   "metadata": {},
   "outputs": [],
   "source": [
    "model=Sequential()\n",
    "model.add(SimpleRNN(units=16,activation='relu',input_shape=(28,28)))\n",
    "model.add(Dense(n_classes))\n",
    "model.add(Activation('softmax'))"
   ]
  },
  {
   "cell_type": "code",
   "execution_count": 10,
   "metadata": {},
   "outputs": [],
   "source": [
    "model.compile(loss='categorical_crossentropy',optimizer=RMSprop(lr=0.01),metrics=['accuracy'])"
   ]
  },
  {
   "cell_type": "code",
   "execution_count": 11,
   "metadata": {},
   "outputs": [
    {
     "name": "stdout",
     "output_type": "stream",
     "text": [
      "_________________________________________________________________\n",
      "Layer (type)                 Output Shape              Param #   \n",
      "=================================================================\n",
      "simple_rnn_1 (SimpleRNN)     (None, 16)                720       \n",
      "_________________________________________________________________\n",
      "dense_1 (Dense)              (None, 10)                170       \n",
      "_________________________________________________________________\n",
      "activation_1 (Activation)    (None, 10)                0         \n",
      "=================================================================\n",
      "Total params: 890\n",
      "Trainable params: 890\n",
      "Non-trainable params: 0\n",
      "_________________________________________________________________\n"
     ]
    }
   ],
   "source": [
    "model.summary()"
   ]
  },
  {
   "cell_type": "code",
   "execution_count": 12,
   "metadata": {},
   "outputs": [
    {
     "name": "stdout",
     "output_type": "stream",
     "text": [
      "Epoch 1/20\n",
      "55000/55000 [==============================] - 3s 53us/step - loss: 1.2484 - acc: 0.5333\n",
      "Epoch 2/20\n",
      "55000/55000 [==============================] - 2s 43us/step - loss: 0.8919 - acc: 0.6930\n",
      "Epoch 3/20\n",
      "55000/55000 [==============================] - 2s 45us/step - loss: 0.7782 - acc: 0.7356\n",
      "Epoch 4/20\n",
      "55000/55000 [==============================] - 2s 39us/step - loss: 0.7208 - acc: 0.7590\n",
      "Epoch 5/20\n",
      "55000/55000 [==============================] - 2s 44us/step - loss: 0.6975 - acc: 0.7732\n",
      "Epoch 6/20\n",
      "55000/55000 [==============================] - 2s 42us/step - loss: 0.6704 - acc: 0.7835\n",
      "Epoch 7/20\n",
      "55000/55000 [==============================] - 2s 45us/step - loss: 0.6538 - acc: 0.7901\n",
      "Epoch 8/20\n",
      "55000/55000 [==============================] - 3s 58us/step - loss: 0.6478 - acc: 0.7973\n",
      "Epoch 9/20\n",
      "55000/55000 [==============================] - 3s 53us/step - loss: 0.6344 - acc: 0.7963\n",
      "Epoch 10/20\n",
      "55000/55000 [==============================] - 3s 52us/step - loss: 0.6187 - acc: 0.8042\n",
      "Epoch 11/20\n",
      "55000/55000 [==============================] - 3s 49us/step - loss: 0.6261 - acc: 0.8032\n",
      "Epoch 12/20\n",
      "55000/55000 [==============================] - 2s 43us/step - loss: 0.6143 - acc: 0.8104\n",
      "Epoch 13/20\n",
      "55000/55000 [==============================] - 3s 46us/step - loss: 0.6009 - acc: 0.8149\n",
      "Epoch 14/20\n",
      "55000/55000 [==============================] - 2s 43us/step - loss: 0.5927 - acc: 0.8212\n",
      "Epoch 15/20\n",
      "55000/55000 [==============================] - 3s 62us/step - loss: 0.5978 - acc: 0.8185\n",
      "Epoch 16/20\n",
      "55000/55000 [==============================] - 2s 42us/step - loss: 0.5648 - acc: 0.8293\n",
      "Epoch 17/20\n",
      "55000/55000 [==============================] - 3s 58us/step - loss: 0.5851 - acc: 0.8233\n",
      "Epoch 18/20\n",
      "55000/55000 [==============================] - 3s 50us/step - loss: 0.5596 - acc: 0.8306\n",
      "Epoch 19/20\n",
      "55000/55000 [==============================] - 3s 60us/step - loss: 0.5685 - acc: 0.8284\n",
      "Epoch 20/20\n",
      "55000/55000 [==============================] - 4s 66us/step - loss: 0.6092 - acc: 0.8143\n"
     ]
    },
    {
     "data": {
      "text/plain": [
       "<keras.callbacks.History at 0x17fd9e24be0>"
      ]
     },
     "execution_count": 12,
     "metadata": {},
     "output_type": "execute_result"
    }
   ],
   "source": [
    "model.fit(X_train,Y_train,batch_size=100,epochs=20)"
   ]
  },
  {
   "cell_type": "code",
   "execution_count": 13,
   "metadata": {},
   "outputs": [
    {
     "name": "stdout",
     "output_type": "stream",
     "text": [
      "10000/10000 [==============================] - 1s 57us/step\n",
      "\n",
      "Test loss: 0.5115872585773468\n",
      "Test accuracy: 0.8478\n"
     ]
    }
   ],
   "source": [
    "score = model.evaluate(X_test, Y_test)\n",
    "print('\\nTest loss:', score[0])\n",
    "print('Test accuracy:', score[1])"
   ]
  },
  {
   "cell_type": "code",
   "execution_count": null,
   "metadata": {},
   "outputs": [],
   "source": []
  }
 ],
 "metadata": {
  "kernelspec": {
   "display_name": "Python 3",
   "language": "python",
   "name": "python3"
  },
  "language_info": {
   "codemirror_mode": {
    "name": "ipython",
    "version": 3
   },
   "file_extension": ".py",
   "mimetype": "text/x-python",
   "name": "python",
   "nbconvert_exporter": "python",
   "pygments_lexer": "ipython3",
   "version": "3.6.4rc1"
  }
 },
 "nbformat": 4,
 "nbformat_minor": 2
}
