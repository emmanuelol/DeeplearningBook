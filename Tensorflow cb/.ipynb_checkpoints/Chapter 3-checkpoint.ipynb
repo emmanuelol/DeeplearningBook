{
 "cells": [
  {
   "cell_type": "code",
   "execution_count": 1,
   "metadata": {},
   "outputs": [
    {
     "name": "stderr",
     "output_type": "stream",
     "text": [
      "/home/emmanuel/miniconda3/lib/python3.6/site-packages/h5py/__init__.py:36: FutureWarning: Conversion of the second argument of issubdtype from `float` to `np.floating` is deprecated. In future, it will be treated as `np.float64 == np.dtype(float).type`.\n",
      "  from ._conv import register_converters as _register_converters\n"
     ]
    }
   ],
   "source": [
    "# mnist nn\n",
    "import tensorflow as tf\n",
    "import tensorflow.contrib.layers as layers"
   ]
  },
  {
   "cell_type": "code",
   "execution_count": 2,
   "metadata": {},
   "outputs": [],
   "source": [
    "from tensorflow.python import debug as tf_debug\n"
   ]
  },
  {
   "cell_type": "code",
   "execution_count": 3,
   "metadata": {},
   "outputs": [
    {
     "name": "stdout",
     "output_type": "stream",
     "text": [
      "Successfully downloaded train-images-idx3-ubyte.gz 9912422 bytes.\n",
      "Extracting /tmp/data/train-images-idx3-ubyte.gz\n",
      "Successfully downloaded train-labels-idx1-ubyte.gz 28881 bytes.\n",
      "Extracting /tmp/data/train-labels-idx1-ubyte.gz\n",
      "Successfully downloaded t10k-images-idx3-ubyte.gz 1648877 bytes.\n",
      "Extracting /tmp/data/t10k-images-idx3-ubyte.gz\n",
      "Successfully downloaded t10k-labels-idx1-ubyte.gz 4542 bytes.\n",
      "Extracting /tmp/data/t10k-labels-idx1-ubyte.gz\n"
     ]
    }
   ],
   "source": [
    "# MNIST input data\n",
    "from tensorflow.examples.tutorials.mnist import input_data\n",
    "mnist=input_data.read_data_sets(\"/tmp/data\",one_hot=True)"
   ]
  },
  {
   "cell_type": "code",
   "execution_count": 4,
   "metadata": {},
   "outputs": [],
   "source": [
    "# Network parameters\n",
    "n_hidden=30\n",
    "n_classes=10\n",
    "n_input=784"
   ]
  },
  {
   "cell_type": "code",
   "execution_count": 5,
   "metadata": {},
   "outputs": [],
   "source": [
    "# hyperparameters\n",
    "batch_size=200\n",
    "eta=1e-3\n",
    "max_epoch=10"
   ]
  },
  {
   "cell_type": "code",
   "execution_count": 6,
   "metadata": {},
   "outputs": [],
   "source": [
    "def multilayer_perceptron(x):\n",
    "    fc1=layers.fully_connected(x,n_hidden,activation_fn=tf.nn.relu,scope='fc1')\n",
    "    fc2=layers.fully_connected(fc1,256,activation_fn=tf.nn.relu,scope='fc2')\n",
    "    out=layers.fully_connected(fc2,n_classes,activation_fn=None,scope='out')\n",
    "    return out"
   ]
  },
  {
   "cell_type": "code",
   "execution_count": 7,
   "metadata": {},
   "outputs": [
    {
     "name": "stdout",
     "output_type": "stream",
     "text": [
      "WARNING:tensorflow:From <ipython-input-7-57cc47ad4844>:5: softmax_cross_entropy_with_logits (from tensorflow.python.ops.nn_ops) is deprecated and will be removed in a future version.\n",
      "Instructions for updating:\n",
      "\n",
      "Future major versions of TensorFlow will allow gradients to flow\n",
      "into the labels input on backprop by default.\n",
      "\n",
      "See tf.nn.softmax_cross_entropy_with_logits_v2.\n",
      "\n"
     ]
    }
   ],
   "source": [
    "# build model, loss and train op\n",
    "x=tf.placeholder(tf.float32,[None,n_input],name='placeholder_x')\n",
    "y=tf.placeholder(tf.float32,[None,n_classes],name='placeholder_y')\n",
    "y_hat=multilayer_perceptron(x)\n",
    "loss=tf.reduce_mean(tf.nn.softmax_cross_entropy_with_logits(logits=y_hat,labels=y))\n",
    "train=tf.train.AdamOptimizer(learning_rate=eta).minimize(loss)\n",
    "init= tf.global_variables_initializer()"
   ]
  },
  {
   "cell_type": "code",
   "execution_count": 8,
   "metadata": {},
   "outputs": [
    {
     "name": "stdout",
     "output_type": "stream",
     "text": [
      "Epoch 00, Loss = 0.455647\n",
      "Epoch 01, Loss = 0.188599\n",
      "Epoch 02, Loss = 0.151523\n",
      "Epoch 03, Loss = 0.126627\n",
      "Epoch 04, Loss = 0.108301\n",
      "Epoch 05, Loss = 0.101467\n",
      "Epoch 06, Loss = 0.086682\n",
      "Epoch 07, Loss = 0.079693\n",
      "Epoch 08, Loss = 0.072342\n",
      "Epoch 09, Loss = 0.069687\n",
      "Accuracy: 0.9603\n"
     ]
    }
   ],
   "source": [
    "with tf.Session() as sess:\n",
    "    sess.run(init)\n",
    "    for epoch in range(max_epoch):\n",
    "        epoch_loss=0\n",
    "        batch_steps=int(mnist.train.num_examples/batch_size)\n",
    "        for i in range(batch_size):\n",
    "            batch_x,batch_y=mnist.train.next_batch(batch_size)\n",
    "            _,c=sess.run([train,loss],feed_dict={x:batch_x,y:batch_y})\n",
    "            epoch_loss+=c/batch_steps\n",
    "        print('Epoch %02d, Loss = %.6f'%(epoch,epoch_loss))\n",
    "    #test model\n",
    "    correct_prediction=tf.equal(tf.argmax(y_hat,1),tf.argmax(y,1))\n",
    "    accuracy=tf.reduce_mean(tf.cast(correct_prediction,tf.float32))\n",
    "    print(\"Accuracy:\",accuracy.eval({x:mnist.test.images,y:mnist.test.labels}))"
   ]
  },
  {
   "cell_type": "code",
   "execution_count": null,
   "metadata": {},
   "outputs": [],
   "source": []
  }
 ],
 "metadata": {
  "kernelspec": {
   "display_name": "Python 3",
   "language": "python",
   "name": "python3"
  },
  "language_info": {
   "codemirror_mode": {
    "name": "ipython",
    "version": 3
   },
   "file_extension": ".py",
   "mimetype": "text/x-python",
   "name": "python",
   "nbconvert_exporter": "python",
   "pygments_lexer": "ipython3",
   "version": "3.6.4"
  }
 },
 "nbformat": 4,
 "nbformat_minor": 2
}
