{
 "cells": [
  {
   "cell_type": "code",
   "execution_count": 1,
   "metadata": {},
   "outputs": [],
   "source": [
    "import tensorflow as tf\n"
   ]
  },
  {
   "cell_type": "code",
   "execution_count": 2,
   "metadata": {},
   "outputs": [],
   "source": [
    "message=tf.constant('Welcome to the exciting world of Deep Neural Networks!')"
   ]
  },
  {
   "cell_type": "code",
   "execution_count": 3,
   "metadata": {},
   "outputs": [
    {
     "name": "stdout",
     "output_type": "stream",
     "text": [
      "Welcome to the exciting world of Deep Neural Networks!\n"
     ]
    }
   ],
   "source": [
    "with tf.Session() as sess:\n",
    "    print(sess.run(message).decode())"
   ]
  },
  {
   "cell_type": "code",
   "execution_count": 4,
   "metadata": {},
   "outputs": [],
   "source": [
    "v_1=tf.constant([1,2,3,4])\n",
    "v_2=tf.constant([2,1,5,3])\n",
    "v_add=tf.add(v_1,v_2)"
   ]
  },
  {
   "cell_type": "code",
   "execution_count": 5,
   "metadata": {},
   "outputs": [
    {
     "name": "stdout",
     "output_type": "stream",
     "text": [
      "[3 3 8 7]\n"
     ]
    }
   ],
   "source": [
    "with tf.Session() as sess:\n",
    "    print(sess.run(v_add))"
   ]
  },
  {
   "cell_type": "code",
   "execution_count": 6,
   "metadata": {},
   "outputs": [
    {
     "name": "stdout",
     "output_type": "stream",
     "text": [
      "[[  8.08452892  19.82494736  15.61889935   4.53700256   2.20509911]\n",
      " [ 11.18208122  13.50665474  10.86783981  19.36314201   6.33399677]\n",
      " [  7.94112778   8.12324047  11.94053268  12.06308365   8.4015789 ]\n",
      " [  5.38679981  12.40866852   5.16483879  16.95701408   6.01548576]]\n"
     ]
    }
   ],
   "source": [
    "x=tf.placeholder('float')\n",
    "y=2*x\n",
    "data=tf.random_uniform([4,5],10)\n",
    "with tf.Session() as sess:\n",
    "    x_data=sess.run(data)\n",
    "    print(sess.run(y,feed_dict={x:x_data}))"
   ]
  },
  {
   "cell_type": "code",
   "execution_count": 7,
   "metadata": {},
   "outputs": [],
   "source": [
    "# Start interactive Session\n",
    "sess=tf.InteractiveSession()\n"
   ]
  },
  {
   "cell_type": "code",
   "execution_count": 8,
   "metadata": {},
   "outputs": [
    {
     "name": "stdout",
     "output_type": "stream",
     "text": [
      "[[ 1.  0.  0.  0.  0.]\n",
      " [ 0.  1.  0.  0.  0.]\n",
      " [ 0.  0.  1.  0.  0.]\n",
      " [ 0.  0.  0.  1.  0.]\n",
      " [ 0.  0.  0.  0.  1.]]\n"
     ]
    }
   ],
   "source": [
    "I_matrx=tf.eye(5)\n",
    "print(I_matrx.eval())"
   ]
  },
  {
   "cell_type": "code",
   "execution_count": 10,
   "metadata": {},
   "outputs": [
    {
     "name": "stdout",
     "output_type": "stream",
     "text": [
      "[[ 1.  0.  0.  0.  0.  0.  0.  0.  0.  0.]\n",
      " [ 0.  1.  0.  0.  0.  0.  0.  0.  0.  0.]\n",
      " [ 0.  0.  1.  0.  0.  0.  0.  0.  0.  0.]\n",
      " [ 0.  0.  0.  1.  0.  0.  0.  0.  0.  0.]\n",
      " [ 0.  0.  0.  0.  1.  0.  0.  0.  0.  0.]\n",
      " [ 0.  0.  0.  0.  0.  1.  0.  0.  0.  0.]\n",
      " [ 0.  0.  0.  0.  0.  0.  1.  0.  0.  0.]\n",
      " [ 0.  0.  0.  0.  0.  0.  0.  1.  0.  0.]\n",
      " [ 0.  0.  0.  0.  0.  0.  0.  0.  1.  0.]\n",
      " [ 0.  0.  0.  0.  0.  0.  0.  0.  0.  1.]]\n"
     ]
    }
   ],
   "source": [
    "X=tf.Variable(tf.eye(10))\n",
    "X.initializer.run()\n",
    "print(X.eval())"
   ]
  },
  {
   "cell_type": "code",
   "execution_count": 11,
   "metadata": {},
   "outputs": [
    {
     "name": "stdout",
     "output_type": "stream",
     "text": [
      "[[-1.17817605 -0.42708036  1.03241289 -1.15644252  1.36205184  0.68488729\n",
      "   0.05024752 -0.06099613 -1.14013195  0.1596754 ]\n",
      " [-0.3356919   0.42480344  0.73185027 -0.81209457 -0.2141407   0.0692846\n",
      "  -0.44645509 -0.11248036 -0.92639762 -1.45368648]\n",
      " [-0.06245378  1.62517691 -1.27814174 -0.98651916 -0.58884823 -1.1078577\n",
      "   0.7709375   0.33329394 -0.79746693  0.93612707]\n",
      " [-0.52529478  1.77588654 -0.53389287 -0.81377149 -0.79301006  2.13955474\n",
      "  -0.16717339 -0.84027958  0.95872319  0.40963563]\n",
      " [ 0.96212041  0.07963905  0.75497591 -0.59270918 -0.81623614  1.50715899\n",
      "  -0.38900903 -0.20666258  1.05565119 -0.48030761]]\n"
     ]
    }
   ],
   "source": [
    "A=tf.Variable(tf.random_normal([5,10]))\n",
    "A.initializer.run()\n",
    "\n",
    "#multiply two matrices\n",
    "product=tf.matmul(A,X)\n",
    "print(product.eval())"
   ]
  },
  {
   "cell_type": "code",
   "execution_count": 12,
   "metadata": {},
   "outputs": [
    {
     "name": "stdout",
     "output_type": "stream",
     "text": [
      "[[1 0 1 1 1 0 0 0 0 1]\n",
      " [0 1 0 1 1 1 0 0 0 0]\n",
      " [0 1 0 0 0 0 0 0 1 0]\n",
      " [0 0 0 0 0 0 0 0 1 0]\n",
      " [1 0 0 0 1 0 1 0 0 0]]\n"
     ]
    }
   ],
   "source": [
    "#create random matrix of 1s and 0s, size 5x10\n",
    "b=tf.Variable(tf.random_uniform([5,10],0,2,dtype=tf.int32))\n",
    "b.initializer.run()\n",
    "print(b.eval())\n",
    "b_new=tf.cast(b,dtype=tf.float32)"
   ]
  },
  {
   "cell_type": "code",
   "execution_count": 13,
   "metadata": {},
   "outputs": [
    {
     "name": "stdout",
     "output_type": "stream",
     "text": [
      "A*x _b\n",
      " [[-0.17817605 -0.42708036  2.03241301 -0.15644252  2.36205196  0.68488729\n",
      "   0.05024752 -0.06099613 -1.14013195  1.15967536]\n",
      " [-0.3356919   1.4248035   0.73185027  0.18790543  0.78585929  1.06928456\n",
      "  -0.44645509 -0.11248036 -0.92639762 -1.45368648]\n",
      " [-0.06245378  2.62517691 -1.27814174 -0.98651916 -0.58884823 -1.1078577\n",
      "   0.7709375   0.33329394  0.20253307  0.93612707]\n",
      " [-0.52529478  1.77588654 -0.53389287 -0.81377149 -0.79301006  2.13955474\n",
      "  -0.16717339 -0.84027958  1.95872319  0.40963563]\n",
      " [ 1.96212041  0.07963905  0.75497591 -0.59270918  0.18376386  1.50715899\n",
      "   0.610991   -0.20666258  1.05565119 -0.48030761]]\n",
      "A*x - b\n",
      " [[-2.17817593 -0.42708036  0.03241289 -2.15644264  0.36205184  0.68488729\n",
      "   0.05024752 -0.06099613 -1.14013195 -0.84032458]\n",
      " [-0.3356919  -0.57519656  0.73185027 -1.81209457 -1.21414065 -0.93071538\n",
      "  -0.44645509 -0.11248036 -0.92639762 -1.45368648]\n",
      " [-0.06245378  0.62517691 -1.27814174 -0.98651916 -0.58884823 -1.1078577\n",
      "   0.7709375   0.33329394 -1.79746699  0.93612707]\n",
      " [-0.52529478  1.77588654 -0.53389287 -0.81377149 -0.79301006  2.13955474\n",
      "  -0.16717339 -0.84027958 -0.04127681  0.40963563]\n",
      " [-0.03787959  0.07963905  0.75497591 -0.59270918 -1.81623614  1.50715899\n",
      "  -1.389009   -0.20666258  1.05565119 -0.48030761]]\n"
     ]
    }
   ],
   "source": [
    "# add to matrices\n",
    "t_sum=tf.add(product,b_new)\n",
    "t_sub=product-b_new\n",
    "print('A*x _b\\n',t_sum.eval())\n",
    "print('A*x - b\\n',t_sub.eval())"
   ]
  },
  {
   "cell_type": "code",
   "execution_count": 29,
   "metadata": {},
   "outputs": [],
   "source": [
    "sess.close()"
   ]
  },
  {
   "cell_type": "code",
   "execution_count": 30,
   "metadata": {},
   "outputs": [],
   "source": [
    "a=tf.Variable(tf.random_normal([4,5],stddev=2))\n",
    "b=tf.Variable(tf.random_normal([4,5],stddev=2))\n"
   ]
  },
  {
   "cell_type": "code",
   "execution_count": 31,
   "metadata": {},
   "outputs": [],
   "source": [
    "# Element wise multiplication\n",
    "A=a*b"
   ]
  },
  {
   "cell_type": "code",
   "execution_count": 32,
   "metadata": {},
   "outputs": [],
   "source": [
    "#multiplication scalar\n",
    "B=tf.scalar_mul(2,A)"
   ]
  },
  {
   "cell_type": "code",
   "execution_count": 33,
   "metadata": {},
   "outputs": [],
   "source": [
    "# element wise division \n",
    "C=tf.div(a,b)"
   ]
  },
  {
   "cell_type": "code",
   "execution_count": 34,
   "metadata": {},
   "outputs": [],
   "source": [
    "# element wise remainder of division\n",
    "D=tf.mod(a,b)\n"
   ]
  },
  {
   "cell_type": "code",
   "execution_count": 35,
   "metadata": {},
   "outputs": [],
   "source": [
    "init_op=tf.global_variables_initializer()"
   ]
  },
  {
   "cell_type": "code",
   "execution_count": 36,
   "metadata": {},
   "outputs": [
    {
     "name": "stdout",
     "output_type": "stream",
     "text": [
      "a\n",
      " [[-2.97985697 -3.52996945 -1.67757881 -1.77245557 -2.53991652]\n",
      " [-1.29102993 -5.57781315  1.65793788  3.05588341 -0.69097906]\n",
      " [ 0.08036864  3.90379453  1.45584905 -1.99692917 -2.10020161]\n",
      " [ 0.4084475   2.97365212 -2.75294447  1.77703929  4.39129972]] b\n",
      " [[-1.39175129  0.02192846 -3.83696651 -1.51523864 -0.06713597]\n",
      " [-2.90274692 -0.37517911 -4.03661728  4.87605953 -1.69640458]\n",
      " [-0.6821993  -7.25129986 -2.21559644  0.98843271  0.61082113]\n",
      " [-0.0972295  -1.56342137 -0.25458455  5.89923    -0.87064761]] a*b\n",
      " [[  4.14721966  -0.07740678   6.43681383   2.68569326   0.17051977]\n",
      " [  3.74753308   2.09267902  -6.69246054  14.9006691    1.17218006]\n",
      " [ -0.05482743 -28.30758476  -3.22557402  -1.9738301   -1.28284752]\n",
      " [ -0.03971314  -4.64907122   0.7008571   10.48316383  -3.82327461]] 2*a\n",
      " [[  8.29443932  -0.15481356  12.87362766   5.37138653   0.34103954]\n",
      " [  7.49506617   4.18535805 -13.38492107  29.8013382    2.34436011]\n",
      " [ -0.10965486 -56.61516953  -6.45114803  -3.94766021  -2.56569505]\n",
      " [ -0.07942629  -9.29814243   1.40171421  20.96632767  -7.64654922]] \n",
      "a/b\n",
      " [[  2.14108443e+00  -1.60976654e+02   4.37214881e-01   1.16975343e+00\n",
      "    3.78324203e+01]\n",
      " [  4.44761455e-01   1.48670673e+01  -4.10724580e-01   6.26711667e-01\n",
      "    4.07319725e-01]\n",
      " [ -1.17808148e-01  -5.38357913e-01  -6.57091260e-01  -2.02029848e+00\n",
      "   -3.43832517e+00]\n",
      " [ -4.20086002e+00  -1.90201581e+00   1.08134785e+01   3.01232427e-01\n",
      "   -5.04371643e+00]] \n",
      "a%b\n",
      " [[ -1.96354389e-01   5.11910766e-04  -1.67757881e+00  -2.57216930e-01\n",
      "   -5.58854491e-02]\n",
      " [ -1.29102993e+00  -3.25305581e-01  -2.37867928e+00   3.05588341e+00\n",
      "   -6.90979064e-01]\n",
      " [ -6.01830661e-01  -3.34750533e+00  -7.59747386e-01   9.68368948e-01\n",
      "    3.43082905e-01]\n",
      " [ -7.76999742e-02  -1.53190613e-01  -2.07098961e-01   1.77703929e+00\n",
      "   -8.32585931e-01]]\n"
     ]
    }
   ],
   "source": [
    "with tf.Session() as sess:\n",
    "    sess.run(init_op)\n",
    "    writer=tf.summary.FileWriter('graphs',sess.graph)\n",
    "    a,b,A_R,B_R,C_R,D_R=sess.run([a,b,A,B,C,D])\n",
    "    print('a\\n',a,'b\\n',b,'a*b\\n',A_R,'2*a\\n',B_R,'\\na/b\\n',C_R,'\\na%b\\n',D_R)\n",
    "    writer.close()"
   ]
  },
  {
   "cell_type": "code",
   "execution_count": null,
   "metadata": {},
   "outputs": [],
   "source": []
  }
 ],
 "metadata": {
  "kernelspec": {
   "display_name": "Python 3",
   "language": "python",
   "name": "python3"
  },
  "language_info": {
   "codemirror_mode": {
    "name": "ipython",
    "version": 3
   },
   "file_extension": ".py",
   "mimetype": "text/x-python",
   "name": "python",
   "nbconvert_exporter": "python",
   "pygments_lexer": "ipython3",
   "version": "3.6.4rc1"
  }
 },
 "nbformat": 4,
 "nbformat_minor": 2
}
