{
 "cells": [
  {
   "cell_type": "code",
   "execution_count": 1,
   "metadata": {},
   "outputs": [],
   "source": [
    "import tensorflow as tf\n"
   ]
  },
  {
   "cell_type": "code",
   "execution_count": 2,
   "metadata": {},
   "outputs": [],
   "source": [
    "message=tf.constant('Welcome to the exciting world of Deep Neural Networks!')"
   ]
  },
  {
   "cell_type": "code",
   "execution_count": 3,
   "metadata": {},
   "outputs": [
    {
     "name": "stdout",
     "output_type": "stream",
     "text": [
      "Welcome to the exciting world of Deep Neural Networks!\n"
     ]
    }
   ],
   "source": [
    "with tf.Session() as sess:\n",
    "    print(sess.run(message).decode())"
   ]
  },
  {
   "cell_type": "code",
   "execution_count": 4,
   "metadata": {},
   "outputs": [],
   "source": [
    "v_1=tf.constant([1,2,3,4])\n",
    "v_2=tf.constant([2,1,5,3])\n",
    "v_add=tf.add(v_1,v_2)"
   ]
  },
  {
   "cell_type": "code",
   "execution_count": 5,
   "metadata": {},
   "outputs": [
    {
     "name": "stdout",
     "output_type": "stream",
     "text": [
      "[3 3 8 7]\n"
     ]
    }
   ],
   "source": [
    "with tf.Session() as sess:\n",
    "    print(sess.run(v_add))"
   ]
  },
  {
   "cell_type": "code",
   "execution_count": 6,
   "metadata": {},
   "outputs": [
    {
     "name": "stdout",
     "output_type": "stream",
     "text": [
      "[[  8.22122288  19.24884796   6.12527847  14.73515224   9.74769592]\n",
      " [  3.76877594   9.92173958  10.17274857   2.47059441   5.95208931]\n",
      " [  2.97120667  17.50720787  16.85045624  16.09965897  16.45420456]\n",
      " [  2.64122581   5.7079649   17.24209595  19.49955559  19.27715111]]\n"
     ]
    }
   ],
   "source": [
    "x=tf.placeholder('float')\n",
    "y=2*x\n",
    "data=tf.random_uniform([4,5],10)\n",
    "with tf.Session() as sess:\n",
    "    x_data=sess.run(data)\n",
    "    print(sess.run(y,feed_dict={x:x_data}))"
   ]
  },
  {
   "cell_type": "code",
   "execution_count": 7,
   "metadata": {},
   "outputs": [],
   "source": [
    "# Start interactive Session\n",
    "sess=tf.InteractiveSession()\n"
   ]
  },
  {
   "cell_type": "code",
   "execution_count": 8,
   "metadata": {},
   "outputs": [
    {
     "name": "stdout",
     "output_type": "stream",
     "text": [
      "[[ 1.  0.  0.  0.  0.]\n",
      " [ 0.  1.  0.  0.  0.]\n",
      " [ 0.  0.  1.  0.  0.]\n",
      " [ 0.  0.  0.  1.  0.]\n",
      " [ 0.  0.  0.  0.  1.]]\n"
     ]
    }
   ],
   "source": [
    "I_matrx=tf.eye(5)\n",
    "print(I_matrx.eval())"
   ]
  },
  {
   "cell_type": "code",
   "execution_count": 9,
   "metadata": {},
   "outputs": [
    {
     "name": "stdout",
     "output_type": "stream",
     "text": [
      "[[ 1.  0.  0.  0.  0.  0.  0.  0.  0.  0.]\n",
      " [ 0.  1.  0.  0.  0.  0.  0.  0.  0.  0.]\n",
      " [ 0.  0.  1.  0.  0.  0.  0.  0.  0.  0.]\n",
      " [ 0.  0.  0.  1.  0.  0.  0.  0.  0.  0.]\n",
      " [ 0.  0.  0.  0.  1.  0.  0.  0.  0.  0.]\n",
      " [ 0.  0.  0.  0.  0.  1.  0.  0.  0.  0.]\n",
      " [ 0.  0.  0.  0.  0.  0.  1.  0.  0.  0.]\n",
      " [ 0.  0.  0.  0.  0.  0.  0.  1.  0.  0.]\n",
      " [ 0.  0.  0.  0.  0.  0.  0.  0.  1.  0.]\n",
      " [ 0.  0.  0.  0.  0.  0.  0.  0.  0.  1.]]\n"
     ]
    }
   ],
   "source": [
    "X=tf.Variable(tf.eye(10))\n",
    "X.initializer.run()\n",
    "print(X.eval())"
   ]
  },
  {
   "cell_type": "code",
   "execution_count": 10,
   "metadata": {},
   "outputs": [
    {
     "name": "stdout",
     "output_type": "stream",
     "text": [
      "[[ 1.2657038  -0.7799651  -0.80794305  0.21006994 -0.5325647   0.89578688\n",
      "  -0.58729547  0.03354512 -0.41399643 -0.10044447]\n",
      " [ 0.09180482 -0.2201165   0.07027845 -1.99318027  0.58662587  0.60138369\n",
      "  -0.16363472  0.90823805  0.32595798  0.67549831]\n",
      " [ 1.44093335  0.2741757  -0.80969411  0.52761894 -0.71274579 -0.40524694\n",
      "   2.01769257 -1.60316432  1.46251714  0.83920079]\n",
      " [-0.86086011 -0.850155    2.04011273  0.20350908 -1.52504182  1.00831187\n",
      "   0.01241213 -0.87854153  1.40214682 -0.40820834]\n",
      " [-0.87984002  0.07129186  1.50940442 -2.18296623 -0.35524973 -0.68246019\n",
      "  -0.18259706 -0.63212889 -0.13762422 -0.91891247]]\n"
     ]
    }
   ],
   "source": [
    "A=tf.Variable(tf.random_normal([5,10]))\n",
    "A.initializer.run()\n",
    "\n",
    "#multiply two matrices\n",
    "product=tf.matmul(A,X)\n",
    "print(product.eval())"
   ]
  },
  {
   "cell_type": "code",
   "execution_count": 11,
   "metadata": {},
   "outputs": [
    {
     "name": "stdout",
     "output_type": "stream",
     "text": [
      "[[1 0 1 1 1 0 1 1 1 0]\n",
      " [1 0 0 0 0 0 1 1 0 1]\n",
      " [0 0 0 0 1 0 0 1 1 1]\n",
      " [1 1 0 1 0 0 0 0 0 0]\n",
      " [0 1 0 0 1 0 0 1 1 0]]\n"
     ]
    }
   ],
   "source": [
    "#create random matrix of 1s and 0s, size 5x10\n",
    "b=tf.Variable(tf.random_uniform([5,10],0,2,dtype=tf.int32))\n",
    "b.initializer.run()\n",
    "print(b.eval())\n",
    "b_new=tf.cast(b,dtype=tf.float32)"
   ]
  },
  {
   "cell_type": "code",
   "execution_count": 12,
   "metadata": {},
   "outputs": [
    {
     "name": "stdout",
     "output_type": "stream",
     "text": [
      "A*x _b\n",
      " [[ 2.26570368 -0.7799651   0.19205695  1.21006989  0.4674353   0.89578688\n",
      "   0.41270453  1.03354514  0.58600354 -0.10044447]\n",
      " [ 1.09180486 -0.2201165   0.07027845 -1.99318027  0.58662587  0.60138369\n",
      "   0.83636528  1.90823805  0.32595798  1.67549825]\n",
      " [ 1.44093335  0.2741757  -0.80969411  0.52761894  0.28725421 -0.40524694\n",
      "   2.01769257 -0.60316432  2.46251726  1.83920074]\n",
      " [ 0.13913989  0.149845    2.04011273  1.20350909 -1.52504182  1.00831187\n",
      "   0.01241213 -0.87854153  1.40214682 -0.40820834]\n",
      " [-0.87984002  1.0712918   1.50940442 -2.18296623  0.64475024 -0.68246019\n",
      "  -0.18259706  0.36787111  0.8623758  -0.91891247]]\n",
      "A*x - b\n",
      " [[ 0.2657038  -0.7799651  -1.80794311 -0.78993005 -1.53256464  0.89578688\n",
      "  -1.58729553 -0.96645486 -1.41399646 -0.10044447]\n",
      " [-0.9081952  -0.2201165   0.07027845 -1.99318027  0.58662587  0.60138369\n",
      "  -1.16363478 -0.09176195  0.32595798 -0.32450169]\n",
      " [ 1.44093335  0.2741757  -0.80969411  0.52761894 -1.71274579 -0.40524694\n",
      "   2.01769257 -2.6031642   0.46251714 -0.16079921]\n",
      " [-1.86086011 -1.850155    2.04011273 -0.79649091 -1.52504182  1.00831187\n",
      "   0.01241213 -0.87854153  1.40214682 -0.40820834]\n",
      " [-0.87984002 -0.92870814  1.50940442 -2.18296623 -1.35524976 -0.68246019\n",
      "  -0.18259706 -1.63212895 -1.13762426 -0.91891247]]\n"
     ]
    }
   ],
   "source": [
    "# add to matrices\n",
    "t_sum=tf.add(product,b_new)\n",
    "t_sub=product-b_new\n",
    "print('A*x _b\\n',t_sum.eval())\n",
    "print('A*x - b\\n',t_sub.eval())"
   ]
  },
  {
   "cell_type": "code",
   "execution_count": 13,
   "metadata": {},
   "outputs": [],
   "source": [
    "sess.close()"
   ]
  },
  {
   "cell_type": "code",
   "execution_count": 14,
   "metadata": {},
   "outputs": [],
   "source": [
    "a=tf.Variable(tf.random_normal([4,5],stddev=2))\n",
    "b=tf.Variable(tf.random_normal([4,5],stddev=2))\n"
   ]
  },
  {
   "cell_type": "code",
   "execution_count": 15,
   "metadata": {},
   "outputs": [],
   "source": [
    "# Element wise multiplication\n",
    "A=a*b"
   ]
  },
  {
   "cell_type": "code",
   "execution_count": 16,
   "metadata": {},
   "outputs": [],
   "source": [
    "#multiplication scalar\n",
    "B=tf.scalar_mul(2,A)"
   ]
  },
  {
   "cell_type": "code",
   "execution_count": 17,
   "metadata": {},
   "outputs": [],
   "source": [
    "# element wise division \n",
    "C=tf.div(a,b)"
   ]
  },
  {
   "cell_type": "code",
   "execution_count": 18,
   "metadata": {},
   "outputs": [],
   "source": [
    "# element wise remainder of division\n",
    "D=tf.mod(a,b)\n"
   ]
  },
  {
   "cell_type": "code",
   "execution_count": 19,
   "metadata": {},
   "outputs": [],
   "source": [
    "init_op=tf.global_variables_initializer()"
   ]
  },
  {
   "cell_type": "code",
   "execution_count": 20,
   "metadata": {},
   "outputs": [
    {
     "name": "stdout",
     "output_type": "stream",
     "text": [
      "a\n",
      " [[-1.77151382 -2.75714993 -2.10012031 -2.99822235  3.37883854]\n",
      " [-1.59461689  4.06036282 -0.37798154 -1.86855054 -2.20051455]\n",
      " [ 2.52832961  0.53825569 -2.71760011  1.60438955  2.34688783]\n",
      " [ 0.15703398  2.01606727 -1.826388    1.14649498  0.16799489]] b\n",
      " [[ 1.91936421  1.61124694  1.32002795  2.68536806  2.68928909]\n",
      " [ 0.80543762  0.12212662 -0.67474675 -2.08546662  0.15778664]\n",
      " [-0.51981944 -2.34527731 -1.87541533 -0.94616985 -0.67915916]\n",
      " [-0.46922186 -1.48441589 -0.34693381  1.24571073 -1.8035444 ]] a*b\n",
      " [[-3.40018034 -4.44244957 -2.77221751 -8.05133057  9.08667374]\n",
      " [-1.28436446  0.4958784   0.25504181  3.8967998  -0.34721178]\n",
      " [-1.31427491 -1.2623589   5.09662867 -1.51802504 -1.59391034]\n",
      " [-0.07368378 -2.99268222  0.63363576  1.42820108 -0.30298623]] 2*a\n",
      " [[ -6.80036068  -8.88489914  -5.54443502 -16.10266113  18.17334747]\n",
      " [ -2.56872892   0.9917568    0.51008362   7.79359961  -0.69442356]\n",
      " [ -2.62854981  -2.52471781  10.19325733  -3.03605008  -3.18782067]\n",
      " [ -0.14736755  -5.98536444   1.26727152   2.85640216  -0.60597247]] \n",
      "a/b\n",
      " [[ -0.9229691   -1.71119022  -1.59096658  -1.11650336   1.25640583]\n",
      " [ -1.97981429  33.24715424   0.56018281   0.8959868  -13.94614029]\n",
      " [ -4.86386108  -0.22950621   1.4490658   -1.69566762  -3.45557857]\n",
      " [ -0.33466893  -1.35815525   5.26436996   0.92035413  -0.09314708]] \n",
      "a%b\n",
      " [[ 0.14785039  0.46534395  0.53993559  2.37251377  0.68954945]\n",
      " [ 0.01625836  0.03018422 -0.37798154 -1.86855054  0.00849837]\n",
      " [-0.07076758 -1.80702162 -0.84218478 -0.28795016 -0.36974883]\n",
      " [-0.31218788 -0.95276451 -0.09171894  1.14649498 -1.63554955]]\n"
     ]
    }
   ],
   "source": [
    "with tf.Session() as sess:\n",
    "    sess.run(init_op)\n",
    "    writer=tf.summary.FileWriter('graphs',sess.graph)\n",
    "    a,b,A_R,B_R,C_R,D_R=sess.run([a,b,A,B,C,D])\n",
    "    print('a\\n',a,'b\\n',b,'a*b\\n',A_R,'2*a\\n',B_R,'\\na/b\\n',C_R,'\\na%b\\n',D_R)\n",
    "    writer.close()"
   ]
  },
  {
   "cell_type": "markdown",
   "metadata": {},
   "source": [
    "# using device CPU or GPU"
   ]
  },
  {
   "cell_type": "code",
   "execution_count": 21,
   "metadata": {},
   "outputs": [],
   "source": [
    "config=tf.ConfigProto(allow_soft_placement=True, log_device_placement=True) \n",
    "#config=tf.ConfigProto(log_device_placement=True) "
   ]
  },
  {
   "cell_type": "code",
   "execution_count": 22,
   "metadata": {},
   "outputs": [],
   "source": [
    "with tf.device('/cpu:0'):\n",
    "    rand_t=tf.random_uniform([5000,5000],0,10,dtype=tf.float32,seed=0)\n",
    "    a=tf.Variable(rand_t)\n",
    "    b=tf.Variable(rand_t)\n",
    "    c=tf.matmul(a,b)\n",
    "    init=tf.global_variables_initializer()"
   ]
  },
  {
   "cell_type": "code",
   "execution_count": 23,
   "metadata": {},
   "outputs": [
    {
     "name": "stdout",
     "output_type": "stream",
     "text": [
      "[[ 127730.3828125  124737.15625    125693.703125  ...,  126140.78125\n",
      "   125260.96875    127401.265625 ]\n",
      " [ 127282.2421875  125613.1015625  126456.140625  ...,  125620.078125\n",
      "   125649.765625   126853.78125  ]\n",
      " [ 126670.3984375  124670.859375   126054.5390625 ...,  125907.890625\n",
      "   124387.5703125  127447.6328125]\n",
      " ..., \n",
      " [ 126200.984375   124398.90625    125582.5625    ...,  125361.7109375\n",
      "   124032.7265625  125084.890625 ]\n",
      " [ 127021.96875    124971.4765625  126007.7578125 ...,  124957.25\n",
      "   124358.5859375  126211.4609375]\n",
      " [ 126071.0703125  122991.4140625  122912.5390625 ...,  123870.4453125\n",
      "   123465.6796875  123085.6484375]]\n"
     ]
    }
   ],
   "source": [
    "sess=tf.Session(config=config)\n",
    "sess.run(init)\n",
    "print(sess.run(c))\n",
    "sess.close()"
   ]
  },
  {
   "cell_type": "code",
   "execution_count": 24,
   "metadata": {},
   "outputs": [],
   "source": [
    "with tf.device('/gpu:0'):\n",
    "    rand_t=tf.random_uniform([5000,5000],0,10,dtype=tf.float32,seed=0)\n",
    "    a=tf.Variable(rand_t)\n",
    "    b=tf.Variable(rand_t)\n",
    "    c=tf.matmul(a,b)\n",
    "    init=tf.global_variables_initializer()"
   ]
  },
  {
   "cell_type": "code",
   "execution_count": 25,
   "metadata": {},
   "outputs": [
    {
     "name": "stdout",
     "output_type": "stream",
     "text": [
      "[[ 127730.3828125  124737.15625    125693.703125  ...,  126140.78125\n",
      "   125260.96875    127401.265625 ]\n",
      " [ 127282.2421875  125613.1015625  126456.140625  ...,  125620.078125\n",
      "   125649.765625   126853.78125  ]\n",
      " [ 126670.3984375  124670.859375   126054.5390625 ...,  125907.890625\n",
      "   124387.5703125  127447.6328125]\n",
      " ..., \n",
      " [ 126200.984375   124398.90625    125582.5625    ...,  125361.7109375\n",
      "   124032.7265625  125084.890625 ]\n",
      " [ 127021.96875    124971.4765625  126007.7578125 ...,  124957.25\n",
      "   124358.5859375  126211.4609375]\n",
      " [ 126071.0703125  122991.4140625  122912.5390625 ...,  123870.4453125\n",
      "   123465.6796875  123085.6484375]]\n"
     ]
    }
   ],
   "source": [
    "sess=tf.Session(config=config)\n",
    "sess.run(init)\n",
    "print(sess.run(c))\n",
    "sess.close()"
   ]
  },
  {
   "cell_type": "code",
   "execution_count": null,
   "metadata": {},
   "outputs": [],
   "source": []
  },
  {
   "cell_type": "code",
   "execution_count": null,
   "metadata": {},
   "outputs": [],
   "source": []
  }
 ],
 "metadata": {
  "kernelspec": {
   "display_name": "Python 3",
   "language": "python",
   "name": "python3"
  },
  "language_info": {
   "codemirror_mode": {
    "name": "ipython",
    "version": 3
   },
   "file_extension": ".py",
   "mimetype": "text/x-python",
   "name": "python",
   "nbconvert_exporter": "python",
   "pygments_lexer": "ipython3",
   "version": "3.6.4rc1"
  }
 },
 "nbformat": 4,
 "nbformat_minor": 2
}
